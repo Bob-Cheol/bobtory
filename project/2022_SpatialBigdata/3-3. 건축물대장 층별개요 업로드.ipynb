{
 "cells": [
  {
   "cell_type": "markdown",
   "metadata": {},
   "source": [
    "### DB 연결"
   ]
  },
  {
   "cell_type": "code",
   "execution_count": 1,
   "metadata": {},
   "outputs": [],
   "source": [
    "import psycopg2\n",
    "\n",
    "conn = psycopg2.connect(\n",
    "  'host=localhost port=5432 dbname=postgres user=postgres password=postgres',\n",
    "  options='-c search_path=sbd'\n",
    ")\n",
    "conn.set_session(autocommit=True)\n",
    "cur = conn.cursor()"
   ]
  },
  {
   "cell_type": "markdown",
   "metadata": {},
   "source": [
    "### 테이블 생성"
   ]
  },
  {
   "cell_type": "code",
   "execution_count": 2,
   "metadata": {},
   "outputs": [],
   "source": [
    "cur.execute(\n",
    "  f'''\n",
    "  select count(*)\n",
    "  from information_schema.tables\n",
    "  where\n",
    "    table_schema = 'sbd' and\n",
    "    table_name ~ 'building_floor'\n",
    "  '''\n",
    ")\n",
    "if not cur.fetchone()[0]:\n",
    "  cur.execute(\n",
    "    open('sql/sbd-create_table_building_floor.sql', 'r').read()\n",
    "  )"
   ]
  },
  {
   "cell_type": "markdown",
   "metadata": {},
   "source": [
    "후속 작업에 필요한 컬럼 목록, 테이블 초기화"
   ]
  },
  {
   "cell_type": "code",
   "execution_count": 3,
   "metadata": {},
   "outputs": [],
   "source": [
    "cur.execute(\n",
    "  f'''\n",
    "  select column_name\n",
    "  from information_schema.columns\n",
    "  where \n",
    "    table_schema = 'sbd' and\n",
    "    table_name = 'building_floor' and\n",
    "    column_default is null\n",
    "  '''\n",
    ")\n",
    "column_list = [\n",
    "  col[0]\n",
    "  for col\n",
    "  in cur.fetchall()\n",
    "]"
   ]
  },
  {
   "cell_type": "markdown",
   "metadata": {},
   "source": [
    "### 업로드 함수"
   ]
  },
  {
   "cell_type": "code",
   "execution_count": 4,
   "metadata": {},
   "outputs": [],
   "source": [
    "def uploadToDB(data_table):\n",
    "  print(datetime.now(),'start...',end='')\n",
    "  data_table.columns = [\n",
    "    '관리_건축물대장_PK', '대지_위치', '도로명_대지_위치', '건물_명', '시군구_코드', '법정동_코드', '대지_구분_코드', '번', '지', '특수지_명', '블록', '로트', '새주소_도로_코드', '새주소_법정동_코드', '새주소_지상지하_코드', '새주소_본_번', '새주소_부_번', '동_명', '층_구분_코드', '층_구분_코드_명', '층_번호', '층_번호_명', '구조_코드', '구조_코드_명', '기타_구조', '주_용도_코드', '주_용도_코드_명', '기타_용도', '면적(㎡)', '주_부속_구분_코드', '주_부속_구분_코드_명', '면적_제외_여부', '생성_일자'\n",
    "  ]\n",
    "  data_table['시도_코드'] = [code[0:2] for code in data_table['시군구_코드']]\n",
    "  data_table = data_table[data_table['시도_코드'] == '11'] # '전국' 중 '서울'만 추출\n",
    "  data_table['pnu'] = data_table['시군구_코드'] + data_table['법정동_코드'] + [ # 토지 ID인 PNU 생성\n",
    "    '1' if code == '0' else '2' if code == '1' else '0'\n",
    "    for code\n",
    "    in data_table['대지_구분_코드']\n",
    "  ] + data_table['번'] + data_table['지']\n",
    "  data_table['road_address'] = data_table['도로명_대지_위치'].str.strip()\n",
    "  data_table = data_table[[\n",
    "    'pnu', '관리_건축물대장_PK', '대지_위치', 'road_address', '건물_명', '동_명', '층_구분_코드', '층_구분_코드_명', '층_번호', '층_번호_명', '구조_코드', '구조_코드_명', '기타_구조', '주_용도_코드', '주_용도_코드_명', '기타_용도', '면적(㎡)', '주_부속_구분_코드_명', '면적_제외_여부', '생성_일자'\n",
    "  ]]\n",
    "  data_table.columns = column_list\n",
    "  data_table.floor_no_name = data_table.floor_no_name.replace('[\\\\\\]', '', regex=True) # 전처리 : 특수문자 제거\n",
    "  data_table.structure_detail = data_table.structure_detail.replace('[\\\\\\]', '', regex=True) # 전처리 : 특수문자 제거\n",
    "  data_table.use_detail = data_table.use_detail.replace('[\\\\\\]', '', regex=True) # 전처리 : 특수문자 제거\n",
    "  data_table.is_excepted_area = [ # 0,1 -> False, True\n",
    "    False if (pd.isna(tf) or tf == '0') else True\n",
    "    for tf\n",
    "    in data_table['is_excepted_area']\n",
    "  ]\n",
    "  data_table.to_csv( # .txt 파일로 로컬 저장\n",
    "    'temp_building_floor.txt',\n",
    "    sep='|',\n",
    "    index=False,\n",
    "    header=False,\n",
    "    encoding='CP949'\n",
    "  )\n",
    "  temp_file = open('temp_building_floor.txt', 'r')\n",
    "  print('upload...',end='')\n",
    "  cur.copy_from( # file bulk insert\n",
    "    temp_file,\n",
    "    'building_floor',\n",
    "    sep='|',\n",
    "    columns=column_list,\n",
    "    null=''\n",
    "  )\n",
    "  temp_file.close()\n",
    "  os.remove('temp_building_floor.txt')\n",
    "  print('end',datetime.now())"
   ]
  },
  {
   "cell_type": "markdown",
   "metadata": {},
   "source": [
    "### 소스 데이터 업로드"
   ]
  },
  {
   "cell_type": "code",
   "execution_count": 5,
   "metadata": {},
   "outputs": [],
   "source": [
    "from zipfile import ZipFile\n",
    "import pandas as pd\n",
    "import os\n",
    "from datetime import datetime\n",
    "\n",
    "zf = ZipFile('D:/data/building_register/building_floor/국토교통부_건축물대장_층별개요+(2022년+07월).zip')\n",
    "source_chunks = pd.read_csv(\n",
    "  zf.open('mart_djy_04.txt'),\n",
    "  sep='|',\n",
    "  encoding='CP949',\n",
    "  header=None,\n",
    "  dtype='string',\n",
    "  chunksize=500_000\n",
    ")"
   ]
  },
  {
   "cell_type": "code",
   "execution_count": 6,
   "metadata": {},
   "outputs": [],
   "source": [
    "cur.execute(\n",
    "  'delete from building_floor'\n",
    ")"
   ]
  },
  {
   "cell_type": "code",
   "execution_count": 7,
   "metadata": {},
   "outputs": [
    {
     "name": "stdout",
     "output_type": "stream",
     "text": [
      "2022-09-29 21:55:21.381551 start..."
     ]
    },
    {
     "name": "stderr",
     "output_type": "stream",
     "text": [
      "C:\\Users\\Bob\\AppData\\Local\\Temp/ipykernel_27504/3267446478.py:8: SettingWithCopyWarning: \n",
      "A value is trying to be set on a copy of a slice from a DataFrame.\n",
      "Try using .loc[row_indexer,col_indexer] = value instead\n",
      "\n",
      "See the caveats in the documentation: https://pandas.pydata.org/pandas-docs/stable/user_guide/indexing.html#returning-a-view-versus-a-copy\n",
      "  data_table['pnu'] = data_table['시군구_코드'] + data_table['법정동_코드'] + [ # 토지 ID인 PNU 생성\n",
      "C:\\Users\\Bob\\AppData\\Local\\Temp/ipykernel_27504/3267446478.py:13: SettingWithCopyWarning: \n",
      "A value is trying to be set on a copy of a slice from a DataFrame.\n",
      "Try using .loc[row_indexer,col_indexer] = value instead\n",
      "\n",
      "See the caveats in the documentation: https://pandas.pydata.org/pandas-docs/stable/user_guide/indexing.html#returning-a-view-versus-a-copy\n",
      "  data_table['road_address'] = data_table['도로명_대지_위치'].str.strip()\n"
     ]
    },
    {
     "name": "stdout",
     "output_type": "stream",
     "text": [
      "upload...end 2022-09-29 21:55:24.586631\n",
      "2022-09-29 21:55:29.583923 start...upload...end 2022-09-29 21:55:32.901242\n",
      "2022-09-29 21:55:37.805385 start...upload...end 2022-09-29 21:55:41.233155\n",
      "2022-09-29 21:55:46.037851 start...upload...end 2022-09-29 21:55:49.363081\n",
      "2022-09-29 21:55:54.264306 start...upload...end 2022-09-29 21:55:57.909796\n",
      "2022-09-29 21:56:02.619094 start...upload...end 2022-09-29 21:56:05.976123\n",
      "2022-09-29 21:56:10.733457 start...upload...end 2022-09-29 21:56:14.047389\n",
      "2022-09-29 21:56:18.876682 start...upload...end 2022-09-29 21:56:22.723444\n",
      "2022-09-29 21:56:27.549739 start...upload...end 2022-09-29 21:56:31.173844\n",
      "2022-09-29 21:56:35.983336 start...upload...end 2022-09-29 21:56:39.274022\n",
      "2022-09-29 21:56:44.154397 start...upload...end 2022-09-29 21:56:47.566048\n",
      "2022-09-29 21:56:52.336833 start...upload...end 2022-09-29 21:56:55.595159\n",
      "2022-09-29 21:57:00.458510 start...upload...end 2022-09-29 21:57:03.868937\n",
      "2022-09-29 21:57:08.719176 start...upload...end 2022-09-29 21:57:12.732804\n",
      "2022-09-29 21:57:17.499780 start...upload...end 2022-09-29 21:57:21.390624\n",
      "2022-09-29 21:57:26.195788 start...upload...end 2022-09-29 21:57:29.572899\n",
      "2022-09-29 21:57:34.433364 start...upload...end 2022-09-29 21:57:37.763871\n",
      "2022-09-29 21:57:42.455718 start...upload...end 2022-09-29 21:57:45.795466\n",
      "2022-09-29 21:57:50.543550 start...upload...end 2022-09-29 21:57:54.040472\n",
      "2022-09-29 21:57:58.811030 start...upload...end 2022-09-29 21:58:02.153134\n",
      "2022-09-29 21:58:06.899616 start...upload...end 2022-09-29 21:58:10.197384\n",
      "2022-09-29 21:58:14.942872 start...upload...end 2022-09-29 21:58:19.068017\n",
      "2022-09-29 21:58:23.839009 start...upload...end 2022-09-29 21:58:28.703395\n",
      "2022-09-29 21:58:33.361997 start...upload...end 2022-09-29 21:58:36.850229\n",
      "2022-09-29 21:58:41.556376 start...upload...end 2022-09-29 21:58:45.168461\n",
      "2022-09-29 21:58:49.689318 start...upload...end 2022-09-29 21:58:53.592144\n",
      "2022-09-29 21:58:58.189080 start...upload...end 2022-09-29 21:59:01.982298\n",
      "2022-09-29 21:59:06.528400 start...upload...end 2022-09-29 21:59:10.195478\n",
      "2022-09-29 21:59:14.721756 start...upload...end 2022-09-29 21:59:18.480825\n",
      "2022-09-29 21:59:22.970069 start...upload...end 2022-09-29 21:59:27.479078\n",
      "2022-09-29 21:59:31.928376 start...upload...end 2022-09-29 21:59:35.143982\n",
      "2022-09-29 21:59:39.594241 start...upload...end 2022-09-29 21:59:42.850711\n",
      "2022-09-29 21:59:47.487779 start...upload...end 2022-09-29 21:59:50.729904\n",
      "2022-09-29 21:59:55.177772 start...upload...end 2022-09-29 21:59:58.343567\n",
      "2022-09-29 22:00:02.802495 start...upload...end 2022-09-29 22:00:05.995006\n",
      "2022-09-29 22:00:10.470141 start...upload...end 2022-09-29 22:00:13.790981\n",
      "2022-09-29 22:00:18.314238 start...upload...end 2022-09-29 22:00:21.598006\n",
      "2022-09-29 22:00:26.092777 start...upload...end 2022-09-29 22:00:29.525766\n",
      "2022-09-29 22:00:34.158373 start...upload...end 2022-09-29 22:00:37.455099\n",
      "2022-09-29 22:00:42.040577 start...upload...end 2022-09-29 22:00:45.229375\n",
      "2022-09-29 22:00:49.792424 start...upload...end 2022-09-29 22:00:54.022862\n",
      "2022-09-29 22:00:54.659013 start...upload...end 2022-09-29 22:00:55.225110\n"
     ]
    }
   ],
   "source": [
    "for source_dt in source_chunks:\n",
    "  uploadToDB(source_dt)"
   ]
  }
 ],
 "metadata": {
  "kernelspec": {
   "display_name": "Python 3.9.7 64-bit",
   "language": "python",
   "name": "python3"
  },
  "language_info": {
   "codemirror_mode": {
    "name": "ipython",
    "version": 3
   },
   "file_extension": ".py",
   "mimetype": "text/x-python",
   "name": "python",
   "nbconvert_exporter": "python",
   "pygments_lexer": "ipython3",
   "version": "3.9.7"
  },
  "orig_nbformat": 4,
  "vscode": {
   "interpreter": {
    "hash": "c8375c55c81336353887004a8a0ed729a5528664cfa1d07c62a42c846a25ebdb"
   }
  }
 },
 "nbformat": 4,
 "nbformat_minor": 2
}
