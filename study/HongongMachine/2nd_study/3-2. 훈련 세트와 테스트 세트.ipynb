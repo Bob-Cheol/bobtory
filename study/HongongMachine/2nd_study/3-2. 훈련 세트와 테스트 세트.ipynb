{
 "cells": [
  {
   "cell_type": "markdown",
   "metadata": {},
   "source": [
    "### 지도 학습과 비지도 학습\n",
    "- 입력 데이터(input data) : 훈련에 사용되는 특성 데이터\n",
    "- 타깃 데이터(target data) : 훈련에 사용되는 정답 데이터\n",
    "- 지도 학습(supervised learning) : 훈련을 위한 입력 데이터와 타깃 데이터가 필요함. 정답을 맞추는 학습을 함.\n",
    "- 비지도 학습(unsupervised learing) : 훈련을 위한 입력 데이터만 필요함. 무엇인지 맞출수는 없지만 데이터를 파악하거나 변형하는 데 도움을 줌"
   ]
  },
  {
   "cell_type": "markdown",
   "metadata": {},
   "source": [
    "### 훈련 세트와 테스트 세트\n",
    "- 훈련 세트(train set) : 훈련에 사용하는 데이터\n",
    "- 테스트 세트(test set) : 평가에 사용하는 데이터"
   ]
  },
  {
   "cell_type": "markdown",
   "metadata": {},
   "source": [
    "#### 모든 데이터를 훈련 세트로 사용하지 않고 일부를 테스트 세트로 분할하여 학습에 사용되지 않은 데이터로 테스트해야 함"
   ]
  },
  {
   "cell_type": "code",
   "execution_count": null,
   "metadata": {},
   "outputs": [],
   "source": [
    "import pandas as pd\n",
    "\n",
    "lot_pnilp = pd.read_csv(\n",
    "  'https://raw.githubusercontent.com/Bob-Cheol/bobtory/master/study/HongongMachine/2nd_study/etc/lpp_pnilp.csv',\n",
    "  header=None\n",
    ")\n",
    "lot_pnilp = [v for v in lot_pnilp.values[0]]\n",
    "lot_parea = pd.read_csv(\n",
    "  'https://raw.githubusercontent.com/Bob-Cheol/bobtory/master/study/HongongMachine/2nd_study/etc/lpp_parea.csv',\n",
    "  header=None\n",
    ")\n",
    "lot_parea = [v for v in lot_parea.values[0]]\n",
    "lot_is_gangnam = pd.read_csv(\n",
    "  'https://raw.githubusercontent.com/Bob-Cheol/bobtory/master/study/HongongMachine/2nd_study/etc/lpp_is_gangnam.csv',\n",
    "  header=None\n",
    ")\n",
    "lot_is_gangnam = [v for v in lot_is_gangnam.values[0]]"
   ]
  }
 ],
 "metadata": {
  "kernelspec": {
   "display_name": "Python 3.9.7 64-bit",
   "language": "python",
   "name": "python3"
  },
  "language_info": {
   "name": "python",
   "version": "3.9.7"
  },
  "orig_nbformat": 4,
  "vscode": {
   "interpreter": {
    "hash": "c8375c55c81336353887004a8a0ed729a5528664cfa1d07c62a42c846a25ebdb"
   }
  }
 },
 "nbformat": 4,
 "nbformat_minor": 2
}
