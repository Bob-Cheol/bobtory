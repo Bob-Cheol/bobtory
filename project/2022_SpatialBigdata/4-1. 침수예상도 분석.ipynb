{
 "cells": [
  {
   "cell_type": "markdown",
   "metadata": {},
   "source": [
    "### DB 연결"
   ]
  },
  {
   "cell_type": "code",
   "execution_count": 1,
   "metadata": {},
   "outputs": [],
   "source": [
    "import psycopg2\n",
    "\n",
    "conn = psycopg2.connect(\n",
    "  'host=localhost port=5432 dbname=postgres user=postgres password=postgres',\n",
    "  options='-c search_path=sbd'\n",
    ")\n",
    "conn.set_session(autocommit=True)\n",
    "cur = conn.cursor()"
   ]
  },
  {
   "cell_type": "markdown",
   "metadata": {},
   "source": [
    "### 기초통계량"
   ]
  },
  {
   "cell_type": "code",
   "execution_count": 2,
   "metadata": {},
   "outputs": [],
   "source": [
    "import pandas as pd\n",
    "\n",
    "cur.execute(\n",
    "  f'''\n",
    "  select\n",
    "    zone_id,\n",
    "    level,\n",
    "    level_description,\n",
    "    public.st_area(geometry) area,\n",
    "    public.st_perimeter(geometry) perimeter\n",
    "  from expected_flooding_zone\n",
    "  '''\n",
    ")\n",
    "ef_zone = pd.DataFrame(\n",
    "  cur.fetchall(),\n",
    "  columns=[\n",
    "    col[0]\n",
    "    for col\n",
    "    in cur.description\n",
    "  ]\n",
    ")"
   ]
  },
  {
   "cell_type": "code",
   "execution_count": 3,
   "metadata": {},
   "outputs": [
    {
     "data": {
      "text/html": [
       "<div>\n",
       "<style scoped>\n",
       "    .dataframe tbody tr th:only-of-type {\n",
       "        vertical-align: middle;\n",
       "    }\n",
       "\n",
       "    .dataframe tbody tr th {\n",
       "        vertical-align: top;\n",
       "    }\n",
       "\n",
       "    .dataframe thead th {\n",
       "        text-align: right;\n",
       "    }\n",
       "</style>\n",
       "<table border=\"1\" class=\"dataframe\">\n",
       "  <thead>\n",
       "    <tr style=\"text-align: right;\">\n",
       "      <th></th>\n",
       "      <th>zone_id</th>\n",
       "      <th>level</th>\n",
       "      <th>level_description</th>\n",
       "      <th>area</th>\n",
       "      <th>perimeter</th>\n",
       "    </tr>\n",
       "  </thead>\n",
       "  <tbody>\n",
       "    <tr>\n",
       "      <th>count</th>\n",
       "      <td>2094.000000</td>\n",
       "      <td>2094</td>\n",
       "      <td>2094</td>\n",
       "      <td>2094.000000</td>\n",
       "      <td>2094.000000</td>\n",
       "    </tr>\n",
       "    <tr>\n",
       "      <th>unique</th>\n",
       "      <td>NaN</td>\n",
       "      <td>8</td>\n",
       "      <td>8</td>\n",
       "      <td>NaN</td>\n",
       "      <td>NaN</td>\n",
       "    </tr>\n",
       "    <tr>\n",
       "      <th>top</th>\n",
       "      <td>NaN</td>\n",
       "      <td>3</td>\n",
       "      <td>0.5mm 이상 1.0mm 미만</td>\n",
       "      <td>NaN</td>\n",
       "      <td>NaN</td>\n",
       "    </tr>\n",
       "    <tr>\n",
       "      <th>freq</th>\n",
       "      <td>NaN</td>\n",
       "      <td>784</td>\n",
       "      <td>784</td>\n",
       "      <td>NaN</td>\n",
       "      <td>NaN</td>\n",
       "    </tr>\n",
       "    <tr>\n",
       "      <th>mean</th>\n",
       "      <td>1048.205349</td>\n",
       "      <td>NaN</td>\n",
       "      <td>NaN</td>\n",
       "      <td>7859.914877</td>\n",
       "      <td>310.837076</td>\n",
       "    </tr>\n",
       "    <tr>\n",
       "      <th>std</th>\n",
       "      <td>604.990178</td>\n",
       "      <td>NaN</td>\n",
       "      <td>NaN</td>\n",
       "      <td>42665.277775</td>\n",
       "      <td>1123.961887</td>\n",
       "    </tr>\n",
       "    <tr>\n",
       "      <th>min</th>\n",
       "      <td>1.000000</td>\n",
       "      <td>NaN</td>\n",
       "      <td>NaN</td>\n",
       "      <td>0.005296</td>\n",
       "      <td>0.356440</td>\n",
       "    </tr>\n",
       "    <tr>\n",
       "      <th>25%</th>\n",
       "      <td>524.250000</td>\n",
       "      <td>NaN</td>\n",
       "      <td>NaN</td>\n",
       "      <td>40.498978</td>\n",
       "      <td>27.743482</td>\n",
       "    </tr>\n",
       "    <tr>\n",
       "      <th>50%</th>\n",
       "      <td>1048.500000</td>\n",
       "      <td>NaN</td>\n",
       "      <td>NaN</td>\n",
       "      <td>443.236222</td>\n",
       "      <td>92.122797</td>\n",
       "    </tr>\n",
       "    <tr>\n",
       "      <th>75%</th>\n",
       "      <td>1571.750000</td>\n",
       "      <td>NaN</td>\n",
       "      <td>NaN</td>\n",
       "      <td>2004.674171</td>\n",
       "      <td>227.674866</td>\n",
       "    </tr>\n",
       "    <tr>\n",
       "      <th>max</th>\n",
       "      <td>2095.000000</td>\n",
       "      <td>NaN</td>\n",
       "      <td>NaN</td>\n",
       "      <td>817386.348363</td>\n",
       "      <td>27073.187584</td>\n",
       "    </tr>\n",
       "  </tbody>\n",
       "</table>\n",
       "</div>"
      ],
      "text/plain": [
       "            zone_id level  level_description           area     perimeter\n",
       "count   2094.000000  2094               2094    2094.000000   2094.000000\n",
       "unique          NaN     8                  8            NaN           NaN\n",
       "top             NaN     3  0.5mm 이상 1.0mm 미만            NaN           NaN\n",
       "freq            NaN   784                784            NaN           NaN\n",
       "mean    1048.205349   NaN                NaN    7859.914877    310.837076\n",
       "std      604.990178   NaN                NaN   42665.277775   1123.961887\n",
       "min        1.000000   NaN                NaN       0.005296      0.356440\n",
       "25%      524.250000   NaN                NaN      40.498978     27.743482\n",
       "50%     1048.500000   NaN                NaN     443.236222     92.122797\n",
       "75%     1571.750000   NaN                NaN    2004.674171    227.674866\n",
       "max     2095.000000   NaN                NaN  817386.348363  27073.187584"
      ]
     },
     "execution_count": 3,
     "metadata": {},
     "output_type": "execute_result"
    }
   ],
   "source": [
    "ef_zone.describe(include='all')"
   ]
  },
  {
   "cell_type": "markdown",
   "metadata": {},
   "source": [
    "- area(구역 면적)\n",
    "  - 최소값은 0.01㎡보다 작고 최대값은 81만㎡가 넘어 차이가 매우 크다.\n",
    "  - 평균은 7,860㎡인데, 중위값은 443㎡으로 차이가 매우 크다. 극대값으로 인해 평균이 크게 상승한 것 같다.\n",
    "- perimeter(구역 둘레)\n",
    "  - 최소값은 0.3m이고 최대값은 27km여서 차이가 매우 크다.\n",
    "  - 평균은 310m인데, 중위값은 92m로 평균이 중위값보다 확연히 크다. 극대값으로 인해 평균이 상승한 것 같다."
   ]
  },
  {
   "cell_type": "code",
   "execution_count": 4,
   "metadata": {},
   "outputs": [
    {
     "data": {
      "image/png": "[encoded data removed]",
      "text/plain": [
       "<Figure size 576x432 with 2 Axes>"
      ]
     },
     "metadata": {
      "needs_background": "light"
     },
     "output_type": "display_data"
    }
   ],
   "source": [
    "import matplotlib.pyplot as plt\n",
    "\n",
    "fig, axs = plt.subplots(1, 2, figsize=(8, 6))\n",
    "axs[0].hist(ef_zone[ef_zone.area <= 2004].area)\n",
    "axs[1].hist(ef_zone[ef_zone.perimeter <= 227].perimeter)\n",
    "plt.show()"
   ]
  },
  {
   "cell_type": "markdown",
   "metadata": {},
   "source": [
    "- area와 perimeter의 3분위수(3-quantile) 미만의 히스토그램을 보면, 두 변수 모두 0에 쏠려있다(left-skewed).\n",
    "- 상대적으로 area의 치우침이 더 심하다."
   ]
  },
  {
   "cell_type": "code",
   "execution_count": 5,
   "metadata": {},
   "outputs": [
    {
     "data": {
      "image/png": "[encoded data removed]",
      "text/plain": [
       "<Figure size 576x432 with 2 Axes>"
      ]
     },
     "metadata": {
      "needs_background": "light"
     },
     "output_type": "display_data"
    }
   ],
   "source": [
    "fig, axs = plt.subplots(1, 2, figsize=(8, 6))\n",
    "axs[0].boxplot(ef_zone.area)\n",
    "axs[1].boxplot(ef_zone.perimeter)\n",
    "plt.show()"
   ]
  },
  {
   "cell_type": "markdown",
   "metadata": {},
   "source": [
    "- maximum 보다 큰 outlier의 값이 너무 커서 boxplot의 형태를 알아보기 어렵다."
   ]
  },
  {
   "cell_type": "code",
   "execution_count": 6,
   "metadata": {},
   "outputs": [
    {
     "name": "stdout",
     "output_type": "stream",
     "text": [
      "area IQR : 1964.18\n",
      "perimeter IQR : 199.93\n"
     ]
    }
   ],
   "source": [
    "import numpy as np\n",
    "\n",
    "area_1q = np.quantile(ef_zone.area, 0.25)\n",
    "area_3q = np.quantile(ef_zone.area, 0.75)\n",
    "area_iqr = area_3q - area_1q\n",
    "print('area IQR :', round(area_iqr,2))\n",
    "perimeter_1q = np.quantile(ef_zone.perimeter, 0.25)\n",
    "perimeter_3q = np.quantile(ef_zone.perimeter, 0.75)\n",
    "perimeter_iqr = perimeter_3q - perimeter_1q\n",
    "print('perimeter IQR :', round(perimeter_iqr,2))"
   ]
  },
  {
   "cell_type": "code",
   "execution_count": 42,
   "metadata": {},
   "outputs": [
    {
     "data": {
      "image/png": "[encoded data removed]",
      "text/plain": [
       "<Figure size 576x432 with 2 Axes>"
      ]
     },
     "metadata": {
      "needs_background": "light"
     },
     "output_type": "display_data"
    }
   ],
   "source": [
    "fig, axs = plt.subplots(1, 2, figsize=(8, 6))\n",
    "axs[0].boxplot(ef_zone.area)\n",
    "axs[0].set_ylim(\n",
    "  [\n",
    "    area_1q-1.5*area_iqr if area_1q-1.5*area_iqr > 0 else 0, # 최소 0\n",
    "    area_3q+1.5*area_iqr+0.5*area_iqr # outlier 일부 출력\n",
    "  ]\n",
    ")\n",
    "axs[1].boxplot(ef_zone.perimeter)\n",
    "axs[1].set_ylim(\n",
    "  [\n",
    "    perimeter_1q-1.5*perimeter_iqr if perimeter_1q-1.5*perimeter_iqr > 0 else 0, # 최소 0\n",
    "    perimeter_3q+1.5*perimeter_iqr+0.5*perimeter_iqr # outlier 일부 출력\n",
    "  ]\n",
    ")\n",
    "plt.show()"
   ]
  },
  {
   "cell_type": "markdown",
   "metadata": {},
   "source": [
    "- area와 perimeter의 lower_bound가 0보다 작아서, 작은 outlier는 존재하지 않음"
   ]
  },
  {
   "cell_type": "markdown",
   "metadata": {},
   "source": [
    "### level 단위 통계\n",
    "####  level 별 개수"
   ]
  },
  {
   "cell_type": "code",
   "execution_count": 8,
   "metadata": {},
   "outputs": [],
   "source": [
    "cur.execute(\n",
    "  f'''\n",
    "  select\n",
    "    level,\n",
    "    count(*) count,\n",
    "    sum(public.st_area(geometry)) area\n",
    "  from expected_flooding_zone\n",
    "  group by level\n",
    "  order by level\n",
    "  '''\n",
    ")\n",
    "ef_zone_level = pd.DataFrame(\n",
    "  cur.fetchall(),\n",
    "  columns=[\n",
    "    col[0]\n",
    "    for col\n",
    "    in cur.description\n",
    "  ]\n",
    ")"
   ]
  },
  {
   "cell_type": "code",
   "execution_count": 9,
   "metadata": {},
   "outputs": [
    {
     "data": {
      "text/html": [
       "<div>\n",
       "<style scoped>\n",
       "    .dataframe tbody tr th:only-of-type {\n",
       "        vertical-align: middle;\n",
       "    }\n",
       "\n",
       "    .dataframe tbody tr th {\n",
       "        vertical-align: top;\n",
       "    }\n",
       "\n",
       "    .dataframe thead th {\n",
       "        text-align: right;\n",
       "    }\n",
       "</style>\n",
       "<table border=\"1\" class=\"dataframe\">\n",
       "  <thead>\n",
       "    <tr style=\"text-align: right;\">\n",
       "      <th></th>\n",
       "      <th>level</th>\n",
       "      <th>count</th>\n",
       "      <th>area</th>\n",
       "    </tr>\n",
       "  </thead>\n",
       "  <tbody>\n",
       "    <tr>\n",
       "      <th>0</th>\n",
       "      <td>1</td>\n",
       "      <td>203</td>\n",
       "      <td>3.071175e+06</td>\n",
       "    </tr>\n",
       "    <tr>\n",
       "      <th>1</th>\n",
       "      <td>2</td>\n",
       "      <td>683</td>\n",
       "      <td>9.546084e+06</td>\n",
       "    </tr>\n",
       "    <tr>\n",
       "      <th>2</th>\n",
       "      <td>3</td>\n",
       "      <td>784</td>\n",
       "      <td>2.595345e+06</td>\n",
       "    </tr>\n",
       "    <tr>\n",
       "      <th>3</th>\n",
       "      <td>4</td>\n",
       "      <td>213</td>\n",
       "      <td>8.819425e+05</td>\n",
       "    </tr>\n",
       "    <tr>\n",
       "      <th>4</th>\n",
       "      <td>5</td>\n",
       "      <td>103</td>\n",
       "      <td>2.568882e+05</td>\n",
       "    </tr>\n",
       "    <tr>\n",
       "      <th>5</th>\n",
       "      <td>6</td>\n",
       "      <td>60</td>\n",
       "      <td>7.078451e+04</td>\n",
       "    </tr>\n",
       "    <tr>\n",
       "      <th>6</th>\n",
       "      <td>7</td>\n",
       "      <td>35</td>\n",
       "      <td>2.839409e+04</td>\n",
       "    </tr>\n",
       "    <tr>\n",
       "      <th>7</th>\n",
       "      <td>8</td>\n",
       "      <td>13</td>\n",
       "      <td>8.048301e+03</td>\n",
       "    </tr>\n",
       "  </tbody>\n",
       "</table>\n",
       "</div>"
      ],
      "text/plain": [
       "  level  count          area\n",
       "0     1    203  3.071175e+06\n",
       "1     2    683  9.546084e+06\n",
       "2     3    784  2.595345e+06\n",
       "3     4    213  8.819425e+05\n",
       "4     5    103  2.568882e+05\n",
       "5     6     60  7.078451e+04\n",
       "6     7     35  2.839409e+04\n",
       "7     8     13  8.048301e+03"
      ]
     },
     "execution_count": 9,
     "metadata": {},
     "output_type": "execute_result"
    }
   ],
   "source": [
    "ef_zone_level"
   ]
  },
  {
   "cell_type": "code",
   "execution_count": 10,
   "metadata": {},
   "outputs": [
    {
     "data": {
      "image/png": "[encoded data removed]",
      "text/plain": [
       "<Figure size 432x288 with 1 Axes>"
      ]
     },
     "metadata": {
      "needs_background": "light"
     },
     "output_type": "display_data"
    }
   ],
   "source": [
    "plt.bar(\n",
    "  ef_zone_level['level'],\n",
    "  ef_zone_level['count']\n",
    ")\n",
    "plt.xlabel('level')\n",
    "plt.ylabel('count')\n",
    "plt.show()"
   ]
  },
  {
   "cell_type": "markdown",
   "metadata": {},
   "source": [
    "- level 개수 합계는 3과 2가 압도적으로 많다."
   ]
  },
  {
   "cell_type": "markdown",
   "metadata": {},
   "source": [
    "### level 별 면적 합계"
   ]
  },
  {
   "cell_type": "code",
   "execution_count": 11,
   "metadata": {},
   "outputs": [
    {
     "data": {
      "image/png": "[encoded data removed]",
      "text/plain": [
       "<Figure size 432x288 with 1 Axes>"
      ]
     },
     "metadata": {
      "needs_background": "light"
     },
     "output_type": "display_data"
    }
   ],
   "source": [
    "plt.bar(\n",
    "  ef_zone_level['level'],\n",
    "  ef_zone_level['area']\n",
    ")\n",
    "plt.xlabel('level')\n",
    "plt.ylabel('area')\n",
    "plt.show()"
   ]
  },
  {
   "cell_type": "markdown",
   "metadata": {},
   "source": [
    "- level 면적 합계는 2가 압도적으로 많다."
   ]
  },
  {
   "cell_type": "markdown",
   "metadata": {},
   "source": [
    "### level 별 면적 평균"
   ]
  },
  {
   "cell_type": "code",
   "execution_count": 12,
   "metadata": {},
   "outputs": [
    {
     "data": {
      "image/png": "[encoded data removed]",
      "text/plain": [
       "<Figure size 432x288 with 1 Axes>"
      ]
     },
     "metadata": {
      "needs_background": "light"
     },
     "output_type": "display_data"
    }
   ],
   "source": [
    "plt.bar(\n",
    "  ef_zone_level['level'],\n",
    "  ef_zone_level['area'] / ef_zone_level['count']\n",
    ")\n",
    "plt.xlabel('level')\n",
    "plt.ylabel('area')\n",
    "plt.show()"
   ]
  },
  {
   "cell_type": "markdown",
   "metadata": {},
   "source": [
    "- level 면적 평균값은 1 > 2 > ... 순으로 가장 크다.\n",
    "- level 3보다 4가 평균 면적이 높은 것이 특징이다."
   ]
  },
  {
   "cell_type": "markdown",
   "metadata": {},
   "source": [
    "### 공간 분포 확인(in QGIS)\n",
    "QGIS에서 진행되며 [블로그](https://velog.io/@wkfyde/2022-공간빅데이터-경진대회-4-1.-침수예상도-분석)에 정리"
   ]
  }
 ],
 "metadata": {
  "kernelspec": {
   "display_name": "Python 3.9.7 64-bit",
   "language": "python",
   "name": "python3"
  },
  "language_info": {
   "codemirror_mode": {
    "name": "ipython",
    "version": 3
   },
   "file_extension": ".py",
   "mimetype": "text/x-python",
   "name": "python",
   "nbconvert_exporter": "python",
   "pygments_lexer": "ipython3",
   "version": "3.9.7"
  },
  "orig_nbformat": 4,
  "vscode": {
   "interpreter": {
    "hash": "c8375c55c81336353887004a8a0ed729a5528664cfa1d07c62a42c846a25ebdb"
   }
  }
 },
 "nbformat": 4,
 "nbformat_minor": 2
}
