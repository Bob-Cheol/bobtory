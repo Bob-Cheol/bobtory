{
 "cells": [
  {
   "cell_type": "markdown",
   "metadata": {},
   "source": [
    "# 제5장. 머신러닝 프로세스\n",
    "## 제1절. 머신러닝의 의미\n",
    "- **머신러닝은 데이터의 훈련 샘플들을 학습해 데이터의 규칙과 패턴을 학습하여 결과를 예측하는 알고리즘과 시스템을 연구하는 분야이다.**\n",
    "- 통계학에서 유래된 머신러닝 기법들이 많고, 빅데이터 처리 기술 등의 컴퓨터 과학 분야의 발전으로 데이터의 경험적 학습을 통해 머신러닝이 발전하기도 한다.\n",
    "- 머신러닝에서는 데이터에 대한 규칙을 프로그래밍으로 구현하지 않아도 파이썬 API 기반의 라이브러리로 손쉽게 모델을 구축할 수 있으며, 이를 통해 자동으로 데이터의 패턴을 학습할 수 있다."
   ]
  },
  {
   "cell_type": "markdown",
   "metadata": {},
   "source": [
    "## 제2절. 머신러닝 분석 프로세스 설명\n",
    "### 1. 데이터 확인\n",
    "- **분석할 데이터의 특성을 확인하는 단계이다.**\n",
    "- 독립변수와 종속변수의 존재 여부를 파악하고 적용가능한 분석모델을 확인한다.\n",
    "- 종속변수의 특성이 연속형이라면 회귀분석을 적용하고, 범주형이라면 분류분석을 수행할 수 있다.\n",
    "- 종속변수가 없는 데이터라면 비지도학습을 적용한다.\n",
    "- 또한 독립변수의 특성이 범주형이라면 이를 분석에 활용하도록 전처리해야 한다.\n",
    "\n",
    "### 2. 데이터 분할\n",
    "- **학습용 데이터와 평가용 데이터를 분할하는 단계이다.**\n",
    "- 데이터는 학습데이터/검증데이터/평가데이터로 나눈다.\n",
    "  - 데이터를 분해하는 비율은 정해져 있지 않다.\n",
    "  - 보통 학습데이터는 전체의 60~80%, 검증데이터는 전체의 10~20%, 평가데이터는 전체의 10~20%를 차지하도록 설정한다.\n",
    "- 다수의 학습/검증/평가데이터 세트를 만들어 데이터 크기가 작거나 검증결과를 일반화하기 위해 교차검증방법을 적용할 수 있다.\n",
    "  - 전체 데이터를 학습/검증/평가 용도로 가르는 작업을 한 번만 수행하면 머신러닝 분석결과가 데이터 분할에 의존할 수 있다.\n",
    "\n",
    "### 3. 전처리\n",
    "- **데이터의 특성에 따라 분석이 가능한 형태로 변형하는 단계이다.**\n",
    "- 독립변수에 범주형 변수가 있을 경우, 원핫인코딩(One-hot Encoding) 방법으로 데이터를 변형한다.\n",
    "  - 원핫인코딩은 데이터를 분할하기 전에 수행하는 것이 좋다.\n",
    "- 분석결과의 정확도를 높이기 위해 정규화 또는 표준화를 적용한다.\n",
    "  - 변수마다 단위 특성에 차이가 클 때 분석결과에 영향을 줄 수 있다.\n",
    "- 데이터에 결측치와 이상치가 발견된다면 분석가의 판단과 도메인 상황에 따라 적절한 방법으로 처리해야 한다.\n",
    "\n",
    "### 4. 모델학습\n",
    "- **머신러닝 알고리즘을 학습데이터세트에 적용하는 단계이다.**\n",
    "- 1단계에서 파악한 분석방법에 따라 사이킷런 라이브러리를 사용해 머신러닝 알고리즘 객체를 생성한다.\n",
    "- 머신러닝 분석방법은 크게 지도학습과 비지도학습으로 나눌 수 있다.\n",
    "  - 지도학습은 다시 회귀분석과 분류분석으로 나뉜다.\n",
    "- 분석 목표에 따라, 그리고 데이터의 특성에 따라 적용할 수 있는 분석방법이 달라질 수 있다.\n",
    "- 학습데이터세트로 학습을 수행한 뒤, 검증데이터세트로 학습결과를 확인하고 하이퍼파라미터를 적용하는 과정을 거친다.\n",
    "  - 다양한 하이퍼파라미터를 적용해봄으로써 최적의 하이퍼파라미터를 탐색해볼 수 있다.\n",
    "\n",
    "### 5. 성능평가\n",
    "- **최적의 하이퍼파라미터 및 최종모델을 결정하는 단계이다.**\n",
    "- 최종모델에 평가데이터세트를 적용하여 머신러닝 알고리즘의 예측성능을 평가한다.\n",
    "- 평가데이터세트에 대한 정확도를 머신러닝 분석에 대한 최종성능으로 제시한다."
   ]
  },
  {
   "cell_type": "markdown",
   "metadata": {},
   "source": [
    "## 제3절. 성능평가 기법\n",
    "- 머신러닝 모델은 여러 가지 방법으로 예측성능을 평가할 수 있다.\n",
    "- **성능평가지표(Evaluation Metric)라 하며, 일반적으로 분석 알고리즘이 회귀분석인지 분류분석인지에 따라 여러 종류로 나뉜다.**\n",
    "### 1. 회귀분석\n",
    "- 회귀분석에서는 실젯값과 예측값의 차이를 기반으로 한 지표들을 중심으로 성능평가지표가 발전해왔다.\n",
    "\n",
    "**1. MAE(Mean Absolute Error)**\n",
    "- 실젯값과 예측값의 차이를 절댓값으로 변환해 평균한 것\n",
    "- 에러의 크기가 그대로 반영\n",
    "- 이상치에 영향을 받음\n",
    "- `from sklearn.metrics import mean_absolute_error`\\\n",
    "`mae = mean_absolute_error(y_test, y_pred)`\n",
    "\n",
    "**2. MSE(Mean Squared Error)**\n",
    "- 실젯값과 예측값의 차이를 제곱해 평균한 것\n",
    "- 실젯값과 예측값의 차이의 면적 합을 의미\n",
    "- 특이값이 존재하면 수치가 증가\n",
    "- `from sklearn.metrics import mean_squared_error`\\\n",
    "`mse = mean_squared_error(y_test, y_pred)`\n",
    "\n",
    "**3. RMSE(Root Mean Squared Error)**\n",
    "- 실젯값과 예측값의 차이를 제곱해 평균한 것에 루트를 씌운 것\n",
    "- 에러에 제곱을 하면 에러가 클 수록 그에 따른 가중치가 높이 반영\n",
    "- 이때, 손실이 기하급수적으로 증가하는 상황에서 실제 오류평균보다 값이 더 커지지 않도록 상쇄하기 위해 사용\n",
    "- `from sklearn.metrics import mean_squared_error`\\\n",
    "`import numpy as np`\\\n",
    "`mse = mean_squared_error(y_test, y_pred)`\\\n",
    "`rmse = np.sqrt(mse)`\n",
    "\n",
    "**4. MSLE(Mean Squared Log Error)**\n",
    "- 실젯값과 예측값의 차이를 제곱해 평균한 것에 로그를 적용한 것\n",
    "- RMSE와 같이 손실이 기하급수적으로 증가하는 상황에서 실제 오류평균보다 값이 더 커지지 않도록 상쇄하기 위해 사용\n",
    "- `from sklearn.metrics import mean_squared_log_error`\\\n",
    "`msle = mean_squared_log_error(y_test, y_pred)`\n",
    "\n",
    "**5. MAPE(Mean Absolute Percentage Error)**\n",
    "- MAE를 퍼센트로 변환한 것\n",
    "- 오차가 예측값에서 차지하는 정도를 나타냄\n",
    "- `import numpy as np`\\\n",
    "`def MAPE(y_test, y_pred):`\\\n",
    "`　mape = np.mean(np.abs((y_test - y_pred)/y_test)) * 100`\\\n",
    "`　return mape`\\\n",
    "`mape = MAPE(y_test, y_pred)`"
   ]
  },
  {
   "cell_type": "markdown",
   "metadata": {},
   "source": [
    "### 2. 분류분석\n",
    "- 분류분석도 실제분류와 예측분류가 얼마나 일치했는가를 기반으로 알고리즘의 성능을 평가한다.\n",
    "- 다만 결정값이 0과 1로 구성된 이진분류에서는 정확도가 아닌 다른 성능지표가 더 중요하게 여겨지는 경우도 있다.\n",
    "\n",
    "**1. 정확도(Accuracy)**\n",
    "- 실제 데이터에서 예측 데이터가 얼마나 같은지 판단하는 지표\n",
    "- 데이터 구성에 따라 머신러닝 모델의 성능을 왜곡할 가능성이 있음\n",
    "- $Accuracy = (예측결과가 동일한 데이터 건수)/(전체 예측 데이터 건수)$\\\n",
    "$= (TP + TN)/(TP + TN + FP + FN)$\n",
    "- `from sklearn.metrics import accuracy_score`\\\n",
    "`acc = accuracy_score(y_test, y_pred)`\n",
    "\n",
    "**2. 혼동행렬(Confusion Matrix)**\n",
    "- 정확도의 한계점을 보완하기 위해 혼동행렬을 활용할 수 있다.\n",
    "- 이진 분류의 예측오류가 얼마이고 어떠한 유형의 예측 오류가 발생하고 있는지 나타내는 지표\n",
    "- 4분면 행렬에서 실제 레이블 클래스 값과 예측 레이블 클래스 값이 어떠한 유형을 가지고 매핑되는지 나타냄\n",
    "- `from sklearn.metrics import confusion_matrix`\\\n",
    "`cm = confusion_matrix(y_test, y_pred)`\\\n",
    "- 사이킷런의 혼동행렬에는 첫 행에 TN, FP가 나타나고 두 번째 행에 FN, TP가 나타난다(False -> True 순으로).\n",
    "- TN(True Negative), FP(False Positive), FN(False Negative), TP(True Positive)\n",
    "  - 이 4가지 값을 조합해 분류모델의 성능을 측정하는 주요 지표인 정확도(Accuracy), 정밀도(Precision), 재현율(Recall)/민감도(Sensitivity), 특이도(Specificity)를 알 수 있다.\n",
    "\n",
    "**3. 정밀도(Precision)**\n",
    "- Positive로 예측한 것들 중 실제로도 Positive인 것들의 비율\n",
    "- Positive 예측성능을 더욱 정밀하게 측정하기 위한 평가지표\n",
    "- 양성 예측도라 불림\n",
    "- 정밀도가 상대적인 중요성을 가지는 경우\n",
    "  - 실제 Negative인 데이터를 Positive로 잘못 예측했을 때 업무상 큰 영향이 발생하는 경우\n",
    "- $Precision = TP/(FP + TP)$\n",
    "- `from sklearn.metrics import precision_score`\\\n",
    "`precision = precision_score(y_test, y_pred)`\n",
    "\n",
    "**4. 재현율(Recall)/민감도(Sensitivity)**\n",
    "- 실제 Positive인 것들 중 Positive로 예측한 것들의 비율\n",
    "- TPR(True Positive Rate)라고 불림\n",
    "- 재현율이 상대적인 중요성을 가지는 경우\n",
    "  - 실제 Positive인 데이터를 Negative로 잘못 예측했을 때 업무상 큰 영향이 발생하는 경우\n",
    "- $Recall = TP/(TP + FN)$\n",
    "- `from sklearn.metrics import recall_score`\\\n",
    "`recall = recall_score(y_test, y_pred)`\n",
    "\n",
    "**5. 정밀도와 재현율의 상충관계 - 트레이드오프(trade-off)**\n",
    "- 분류 결정 임곗값(Threshold)을 조정함으로써 정밀도 또는 재현율의 수치를 조절할 수 있다.\n",
    "- 하지만 이 둘은 상충관계인 성능지표이기 때문에 한 쪽을 강제로 높이면 다른 하나의 수치가 떨어지게 된다.\n",
    "- 분석 상황에 따라 정밀도와 재현율 중 하나에 중요도를 부여해 임곗값을 조절할 수 있지만, 정밀도와 재현율 중 하나만을 강조해서는 안 된다.\n",
    "- 두 평가지표의 수치가 적절한 조화를 이루어 종합적으로 분류모델의 성능을 평가해야 한다.\n",
    "\n",
    "**6. 특이도(Specificity)**\n",
    "- 실제 Negative인 것들 중 Negative로 예측한 것들의 비율\n",
    "- 음성 예측도라 불림\n",
    "- 특이도가 상대적인 중요성을 가지는 경우\n",
    "  - 실제 Negative인 데이터를 Positive로 잘못 예측했을 때 업무상 큰 영향이 발생할 때\n",
    "- $Specificity = TF/(TF + FP)$\n",
    "- `from imblearn.metrics import specificity_score`\\\n",
    "`specificity = specificity_score(y_test, y_pred)`\n",
    "\n",
    "**7. F1 스코어(F1 Score)**\n",
    "- F1 스코어는 정밀도와 재현율을 결합한 분류 성능지표이다.\n",
    "- 정밀도와 재현율이 어느 한 쪽으로 치우치치 않고 적절한 조화를 이룰 때 상대적으로 높은 수치를 나타냄\n",
    "- $F1 Score = 2*(Presicion*Recall)/(Precision + Recall)$\n",
    "- `from sklearn.mertrics import f1_score`\\\n",
    "`f1 = f1_score(y_test, y_pred)`\n",
    "\n",
    "**8. ROC 곡선(Receiver Operating Characteristic Curve)**\n",
    "- FPR(False Positive Rate)이 변할 때 TPR(True Positive Rate)이 변하는 것을 나타내는 곡선(ROC)\n",
    "- TPR을 Y축으로, FPR을 X축으로 하는 그래프\n",
    "- 분류 결정 임곗값을 조절하면서 FPR이 0부터 1까지 변할 때 TPR의 변화값을 그래프에 나타냄\n",
    "- 우상향 그래프로 그려짐\n",
    "- $TNR = TN/(TN + FP)$\\\n",
    "$FPR = FP/(FP + TN) = 1 - TNR$\n",
    "- `from sklearn.metrics import roc_curve`\\\n",
    "`fpr, tpr, thres = roc_curve(y_test, y_prec, pos_label=1)`\\\n",
    "`import matplotlib.pyplot as plt`\\\n",
    "`plt.plot(fpr, tpr)`\n",
    "\n",
    "**9. AUC 스코어(Area Under the Curve Score)**\n",
    "- ROC 곡선 아래의 면적 값을 분류 성능지표로서 사용할 수 있다.\n",
    "  - ROC 곡선 자체는 FPR과 TPR의 변화 값을 보는 데 이용한다.\n",
    "- Area Under the ROC Curve\n",
    "- ROC 곡선 아래의 면적\n",
    "- 1에 가까울수록 예측성능이 우수하다고 판단\n",
    "- AUC 값이 커지려면 FPR이 작을 때 TPR 값이 커야함\n",
    "- 우상향 직선에서 멀어지고 왼쪽 상단의 모서리 쪽으로 가파르게 곡선이 이동할수록 AUC가 1에 가까워짐\n",
    "- 랜덤 수준의 AUC 값은 0.5\n",
    "- `from sklearn.metrics import roc_curve, auc`\\\n",
    "`fpr, tpr, thres = roc_curve(y_test, y_pred, pos_label=1)`\\\n",
    "`auc = auc(fpr, tpr)`"
   ]
  },
  {
   "cell_type": "markdown",
   "metadata": {},
   "source": [
    "## 제4절. 머신러닝 분석과정 빠르게 맛보기 - 회귀분석\n",
    "- 머신러닝의 여러 가지 알고리즘을 익히기 전에, 머신러닝 분석 과정을 살펴보자.\n",
    "- 회귀분석과 분류분석 프로세스를 살펴보면 ADP를 위한 머신러닝 분석 과정을 이해할 수 있다.\n",
    "- 회귀문제(Regression) 데이터로 분석과정을 전체적으로 파악해보자.\n",
    "- 데이터는 사이킷런의 보스턴 주택가격 데이터를 활용한다.\n",
    "- 506개의 레코드로 구성되어있으며 보스턴 주택가격(Price)을 종속변수(Y)로 하고, 나머지 변수를 독립변수(특성치 또는 feature)로 하여 학습데이터로 모델을 훈련시키고, 평가데이터로 검증한다.\n",
    "\n",
    "### 1. 데이터 확인"
   ]
  },
  {
   "cell_type": "code",
   "execution_count": 10,
   "metadata": {},
   "outputs": [
    {
     "name": "stderr",
     "output_type": "stream",
     "text": [
      "c:\\Users\\Bob\\AppData\\Local\\Programs\\Python\\Python39\\lib\\site-packages\\sklearn\\utils\\deprecation.py:87: FutureWarning: Function load_boston is deprecated; `load_boston` is deprecated in 1.0 and will be removed in 1.2.\n",
      "\n",
      "    The Boston housing prices dataset has an ethical problem. You can refer to\n",
      "    the documentation of this function for further details.\n",
      "\n",
      "    The scikit-learn maintainers therefore strongly discourage the use of this\n",
      "    dataset unless the purpose of the code is to study and educate about\n",
      "    ethical issues in data science and machine learning.\n",
      "\n",
      "    In this special case, you can fetch the dataset from the original\n",
      "    source::\n",
      "\n",
      "        import pandas as pd\n",
      "        import numpy as np\n",
      "\n",
      "        data_url = \"http://lib.stat.cmu.edu/datasets/boston\"\n",
      "        raw_df = pd.read_csv(data_url, sep=\"\\s+\", skiprows=22, header=None)\n",
      "        data = np.hstack([raw_df.values[::2, :], raw_df.values[1::2, :2]])\n",
      "        target = raw_df.values[1::2, 2]\n",
      "\n",
      "    Alternative datasets include the California housing dataset (i.e.\n",
      "    :func:`~sklearn.datasets.fetch_california_housing`) and the Ames housing\n",
      "    dataset. You can load the datasets as follows::\n",
      "\n",
      "        from sklearn.datasets import fetch_california_housing\n",
      "        housing = fetch_california_housing()\n",
      "\n",
      "    for the California housing dataset and::\n",
      "\n",
      "        from sklearn.datasets import fetch_openml\n",
      "        housing = fetch_openml(name=\"house_prices\", as_frame=True)\n",
      "\n",
      "    for the Ames housing dataset.\n",
      "  warnings.warn(msg, category=FutureWarning)\n"
     ]
    }
   ],
   "source": [
    "from sklearn.datasets import load_boston\n",
    "import pandas as pd\n",
    "\n",
    "boston_load = load_boston()\n",
    "boston_dt = boston_load.data\n",
    "price = boston_load.target\n",
    "\n",
    "df = pd.DataFrame(\n",
    "  boston_dt,\n",
    "  columns=[nm.lower() for nm in boston_load.feature_names]\n",
    ")\n",
    "df['price'] = price"
   ]
  },
  {
   "cell_type": "markdown",
   "metadata": {},
   "source": [
    "**보스턴 지역별 주택가격 데이터**\n",
    "- crim : 지역별 범죄 발생률\n",
    "- zn : 25,000 평방 피트를 초과하는 거주 지역의 비율\n",
    "- indus : 비상업 지역 넓이 비율(공업지역 넓이 비율?)\n",
    "- chas : 찰스강에 대한 더미 변수(강의 경계에 위치한 경우는 1, 아니면 0)\n",
    "- nox : 일산화질소 농도\n",
    "- rm : 거주할 수 있는 방 개수\n",
    "- age : 1940년 이전에 건축된 소유 주택의 비율\n",
    "- dis : 5개 주요 고용센터까지의 가중 거리\n",
    "- rad : 고속도로 접근 용이도\n",
    "- tax : 1,000달러당 재산세율\n",
    "- piratio : 지역의 교사와 학생수 비율\n",
    "- b : 지역의 흑인 거주 비율\n",
    "- lstat : 하위 계층의 비율\n",
    "- price : 보스턴 주택가격"
   ]
  },
  {
   "cell_type": "code",
   "execution_count": 11,
   "metadata": {},
   "outputs": [
    {
     "data": {
      "text/html": [
       "<div>\n",
       "<style scoped>\n",
       "    .dataframe tbody tr th:only-of-type {\n",
       "        vertical-align: middle;\n",
       "    }\n",
       "\n",
       "    .dataframe tbody tr th {\n",
       "        vertical-align: top;\n",
       "    }\n",
       "\n",
       "    .dataframe thead th {\n",
       "        text-align: right;\n",
       "    }\n",
       "</style>\n",
       "<table border=\"1\" class=\"dataframe\">\n",
       "  <thead>\n",
       "    <tr style=\"text-align: right;\">\n",
       "      <th></th>\n",
       "      <th>crim</th>\n",
       "      <th>zn</th>\n",
       "      <th>indus</th>\n",
       "      <th>chas</th>\n",
       "      <th>nox</th>\n",
       "      <th>rm</th>\n",
       "      <th>age</th>\n",
       "      <th>dis</th>\n",
       "      <th>rad</th>\n",
       "      <th>tax</th>\n",
       "      <th>ptratio</th>\n",
       "      <th>b</th>\n",
       "      <th>lstat</th>\n",
       "      <th>price</th>\n",
       "    </tr>\n",
       "  </thead>\n",
       "  <tbody>\n",
       "    <tr>\n",
       "      <th>0</th>\n",
       "      <td>0.00632</td>\n",
       "      <td>18.0</td>\n",
       "      <td>2.31</td>\n",
       "      <td>0.0</td>\n",
       "      <td>0.538</td>\n",
       "      <td>6.575</td>\n",
       "      <td>65.2</td>\n",
       "      <td>4.0900</td>\n",
       "      <td>1.0</td>\n",
       "      <td>296.0</td>\n",
       "      <td>15.3</td>\n",
       "      <td>396.90</td>\n",
       "      <td>4.98</td>\n",
       "      <td>24.0</td>\n",
       "    </tr>\n",
       "    <tr>\n",
       "      <th>1</th>\n",
       "      <td>0.02731</td>\n",
       "      <td>0.0</td>\n",
       "      <td>7.07</td>\n",
       "      <td>0.0</td>\n",
       "      <td>0.469</td>\n",
       "      <td>6.421</td>\n",
       "      <td>78.9</td>\n",
       "      <td>4.9671</td>\n",
       "      <td>2.0</td>\n",
       "      <td>242.0</td>\n",
       "      <td>17.8</td>\n",
       "      <td>396.90</td>\n",
       "      <td>9.14</td>\n",
       "      <td>21.6</td>\n",
       "    </tr>\n",
       "    <tr>\n",
       "      <th>2</th>\n",
       "      <td>0.02729</td>\n",
       "      <td>0.0</td>\n",
       "      <td>7.07</td>\n",
       "      <td>0.0</td>\n",
       "      <td>0.469</td>\n",
       "      <td>7.185</td>\n",
       "      <td>61.1</td>\n",
       "      <td>4.9671</td>\n",
       "      <td>2.0</td>\n",
       "      <td>242.0</td>\n",
       "      <td>17.8</td>\n",
       "      <td>392.83</td>\n",
       "      <td>4.03</td>\n",
       "      <td>34.7</td>\n",
       "    </tr>\n",
       "    <tr>\n",
       "      <th>3</th>\n",
       "      <td>0.03237</td>\n",
       "      <td>0.0</td>\n",
       "      <td>2.18</td>\n",
       "      <td>0.0</td>\n",
       "      <td>0.458</td>\n",
       "      <td>6.998</td>\n",
       "      <td>45.8</td>\n",
       "      <td>6.0622</td>\n",
       "      <td>3.0</td>\n",
       "      <td>222.0</td>\n",
       "      <td>18.7</td>\n",
       "      <td>394.63</td>\n",
       "      <td>2.94</td>\n",
       "      <td>33.4</td>\n",
       "    </tr>\n",
       "    <tr>\n",
       "      <th>4</th>\n",
       "      <td>0.06905</td>\n",
       "      <td>0.0</td>\n",
       "      <td>2.18</td>\n",
       "      <td>0.0</td>\n",
       "      <td>0.458</td>\n",
       "      <td>7.147</td>\n",
       "      <td>54.2</td>\n",
       "      <td>6.0622</td>\n",
       "      <td>3.0</td>\n",
       "      <td>222.0</td>\n",
       "      <td>18.7</td>\n",
       "      <td>396.90</td>\n",
       "      <td>5.33</td>\n",
       "      <td>36.2</td>\n",
       "    </tr>\n",
       "  </tbody>\n",
       "</table>\n",
       "</div>"
      ],
      "text/plain": [
       "      crim    zn  indus  chas    nox     rm   age     dis  rad    tax  \\\n",
       "0  0.00632  18.0   2.31   0.0  0.538  6.575  65.2  4.0900  1.0  296.0   \n",
       "1  0.02731   0.0   7.07   0.0  0.469  6.421  78.9  4.9671  2.0  242.0   \n",
       "2  0.02729   0.0   7.07   0.0  0.469  7.185  61.1  4.9671  2.0  242.0   \n",
       "3  0.03237   0.0   2.18   0.0  0.458  6.998  45.8  6.0622  3.0  222.0   \n",
       "4  0.06905   0.0   2.18   0.0  0.458  7.147  54.2  6.0622  3.0  222.0   \n",
       "\n",
       "   ptratio       b  lstat  price  \n",
       "0     15.3  396.90   4.98   24.0  \n",
       "1     17.8  396.90   9.14   21.6  \n",
       "2     17.8  392.83   4.03   34.7  \n",
       "3     18.7  394.63   2.94   33.4  \n",
       "4     18.7  396.90   5.33   36.2  "
      ]
     },
     "execution_count": 11,
     "metadata": {},
     "output_type": "execute_result"
    }
   ],
   "source": [
    "df.head()"
   ]
  },
  {
   "cell_type": "code",
   "execution_count": 12,
   "metadata": {},
   "outputs": [
    {
     "data": {
      "text/plain": [
       "(506, 14)"
      ]
     },
     "execution_count": 12,
     "metadata": {},
     "output_type": "execute_result"
    }
   ],
   "source": [
    "df.shape"
   ]
  },
  {
   "cell_type": "code",
   "execution_count": 13,
   "metadata": {},
   "outputs": [
    {
     "name": "stdout",
     "output_type": "stream",
     "text": [
      "<class 'pandas.core.frame.DataFrame'>\n",
      "RangeIndex: 506 entries, 0 to 505\n",
      "Data columns (total 14 columns):\n",
      " #   Column   Non-Null Count  Dtype  \n",
      "---  ------   --------------  -----  \n",
      " 0   crim     506 non-null    float64\n",
      " 1   zn       506 non-null    float64\n",
      " 2   indus    506 non-null    float64\n",
      " 3   chas     506 non-null    float64\n",
      " 4   nox      506 non-null    float64\n",
      " 5   rm       506 non-null    float64\n",
      " 6   age      506 non-null    float64\n",
      " 7   dis      506 non-null    float64\n",
      " 8   rad      506 non-null    float64\n",
      " 9   tax      506 non-null    float64\n",
      " 10  ptratio  506 non-null    float64\n",
      " 11  b        506 non-null    float64\n",
      " 12  lstat    506 non-null    float64\n",
      " 13  price    506 non-null    float64\n",
      "dtypes: float64(14)\n",
      "memory usage: 55.5 KB\n"
     ]
    }
   ],
   "source": [
    "df.info()"
   ]
  },
  {
   "cell_type": "code",
   "execution_count": 15,
   "metadata": {},
   "outputs": [
    {
     "data": {
      "text/plain": [
       "crim       0\n",
       "zn         0\n",
       "indus      0\n",
       "chas       0\n",
       "nox        0\n",
       "rm         0\n",
       "age        0\n",
       "dis        0\n",
       "rad        0\n",
       "tax        0\n",
       "ptratio    0\n",
       "b          0\n",
       "lstat      0\n",
       "price      0\n",
       "dtype: int64"
      ]
     },
     "execution_count": 15,
     "metadata": {},
     "output_type": "execute_result"
    }
   ],
   "source": [
    "df.isna().sum()"
   ]
  },
  {
   "cell_type": "code",
   "execution_count": 20,
   "metadata": {},
   "outputs": [
    {
     "data": {
      "image/png": "[encoded data removed]",
      "text/plain": [
       "<Figure size 1152x720 with 12 Axes>"
      ]
     },
     "metadata": {
      "needs_background": "light"
     },
     "output_type": "display_data"
    }
   ],
   "source": [
    "import matplotlib.pyplot as plt\n",
    "import seaborn as sns\n",
    "\n",
    "fig, axs = plt.subplots(\n",
    "  figsize=(16, 10),\n",
    "  ncols=4,\n",
    "  nrows=3,\n",
    "  constrained_layout=True\n",
    ")\n",
    "features = df.columns.difference(['price', 'chas'])\n",
    "\n",
    "for i, feature in zip(range(12), features):\n",
    "  row = int(i/4)\n",
    "  col = i%4\n",
    "  sns.regplot(\n",
    "    x=feature,\n",
    "    y=df['price'],\n",
    "    data=df,\n",
    "    ax=axs[row][col]\n",
    "  )"
   ]
  },
  {
   "cell_type": "markdown",
   "metadata": {},
   "source": [
    "### 2. 데이터 분할"
   ]
  },
  {
   "cell_type": "code",
   "execution_count": 22,
   "metadata": {},
   "outputs": [],
   "source": [
    "from sklearn.model_selection import train_test_split\n",
    "\n",
    "x = df[['crim', 'zn', 'indus', 'nox', 'rm', 'age', 'dis', 'rad', 'tax', 'ptratio', 'b', 'lstat']].values\n",
    "y = df['price'].values\n",
    "x_train, x_test, y_train, y_test = train_test_split(\n",
    "  x,\n",
    "  y,\n",
    "  test_size=0.2,\n",
    "  random_state=42\n",
    ")"
   ]
  },
  {
   "cell_type": "code",
   "execution_count": 24,
   "metadata": {},
   "outputs": [
    {
     "name": "stdout",
     "output_type": "stream",
     "text": [
      "학습데이터세트 price 평균:  22.796534653465343\n",
      "평가데이터세트 price 평균:  21.488235294117644\n"
     ]
    }
   ],
   "source": [
    "print('학습데이터세트 price 평균: ', y_train.mean())\n",
    "print('평가데이터세트 price 평균: ', y_test.mean())"
   ]
  },
  {
   "cell_type": "markdown",
   "metadata": {},
   "source": [
    "### 3. 전처리"
   ]
  },
  {
   "cell_type": "code",
   "execution_count": 25,
   "metadata": {},
   "outputs": [],
   "source": [
    "from sklearn.preprocessing import MinMaxScaler\n",
    "\n",
    "scaler = MinMaxScaler()\n",
    "x_train_scaled = scaler.fit_transform(x_train)"
   ]
  },
  {
   "cell_type": "markdown",
   "metadata": {},
   "source": [
    "### 4. 모델학습"
   ]
  },
  {
   "cell_type": "code",
   "execution_count": 26,
   "metadata": {},
   "outputs": [
    {
     "data": {
      "text/html": [
       "<style>#sk-container-id-1 {color: black;background-color: white;}#sk-container-id-1 pre{padding: 0;}#sk-container-id-1 div.sk-toggleable {background-color: white;}#sk-container-id-1 label.sk-toggleable__label {cursor: pointer;display: block;width: 100%;margin-bottom: 0;padding: 0.3em;box-sizing: border-box;text-align: center;}#sk-container-id-1 label.sk-toggleable__label-arrow:before {content: \"▸\";float: left;margin-right: 0.25em;color: #696969;}#sk-container-id-1 label.sk-toggleable__label-arrow:hover:before {color: black;}#sk-container-id-1 div.sk-estimator:hover label.sk-toggleable__label-arrow:before {color: black;}#sk-container-id-1 div.sk-toggleable__content {max-height: 0;max-width: 0;overflow: hidden;text-align: left;background-color: #f0f8ff;}#sk-container-id-1 div.sk-toggleable__content pre {margin: 0.2em;color: black;border-radius: 0.25em;background-color: #f0f8ff;}#sk-container-id-1 input.sk-toggleable__control:checked~div.sk-toggleable__content {max-height: 200px;max-width: 100%;overflow: auto;}#sk-container-id-1 input.sk-toggleable__control:checked~label.sk-toggleable__label-arrow:before {content: \"▾\";}#sk-container-id-1 div.sk-estimator input.sk-toggleable__control:checked~label.sk-toggleable__label {background-color: #d4ebff;}#sk-container-id-1 div.sk-label input.sk-toggleable__control:checked~label.sk-toggleable__label {background-color: #d4ebff;}#sk-container-id-1 input.sk-hidden--visually {border: 0;clip: rect(1px 1px 1px 1px);clip: rect(1px, 1px, 1px, 1px);height: 1px;margin: -1px;overflow: hidden;padding: 0;position: absolute;width: 1px;}#sk-container-id-1 div.sk-estimator {font-family: monospace;background-color: #f0f8ff;border: 1px dotted black;border-radius: 0.25em;box-sizing: border-box;margin-bottom: 0.5em;}#sk-container-id-1 div.sk-estimator:hover {background-color: #d4ebff;}#sk-container-id-1 div.sk-parallel-item::after {content: \"\";width: 100%;border-bottom: 1px solid gray;flex-grow: 1;}#sk-container-id-1 div.sk-label:hover label.sk-toggleable__label {background-color: #d4ebff;}#sk-container-id-1 div.sk-serial::before {content: \"\";position: absolute;border-left: 1px solid gray;box-sizing: border-box;top: 0;bottom: 0;left: 50%;z-index: 0;}#sk-container-id-1 div.sk-serial {display: flex;flex-direction: column;align-items: center;background-color: white;padding-right: 0.2em;padding-left: 0.2em;position: relative;}#sk-container-id-1 div.sk-item {position: relative;z-index: 1;}#sk-container-id-1 div.sk-parallel {display: flex;align-items: stretch;justify-content: center;background-color: white;position: relative;}#sk-container-id-1 div.sk-item::before, #sk-container-id-1 div.sk-parallel-item::before {content: \"\";position: absolute;border-left: 1px solid gray;box-sizing: border-box;top: 0;bottom: 0;left: 50%;z-index: -1;}#sk-container-id-1 div.sk-parallel-item {display: flex;flex-direction: column;z-index: 1;position: relative;background-color: white;}#sk-container-id-1 div.sk-parallel-item:first-child::after {align-self: flex-end;width: 50%;}#sk-container-id-1 div.sk-parallel-item:last-child::after {align-self: flex-start;width: 50%;}#sk-container-id-1 div.sk-parallel-item:only-child::after {width: 0;}#sk-container-id-1 div.sk-dashed-wrapped {border: 1px dashed gray;margin: 0 0.4em 0.5em 0.4em;box-sizing: border-box;padding-bottom: 0.4em;background-color: white;}#sk-container-id-1 div.sk-label label {font-family: monospace;font-weight: bold;display: inline-block;line-height: 1.2em;}#sk-container-id-1 div.sk-label-container {text-align: center;}#sk-container-id-1 div.sk-container {/* jupyter's `normalize.less` sets `[hidden] { display: none; }` but bootstrap.min.css set `[hidden] { display: none !important; }` so we also need the `!important` here to be able to override the default hidden behavior on the sphinx rendered scikit-learn.org. See: https://github.com/scikit-learn/scikit-learn/issues/21755 */display: inline-block !important;position: relative;}#sk-container-id-1 div.sk-text-repr-fallback {display: none;}</style><div id=\"sk-container-id-1\" class=\"sk-top-container\"><div class=\"sk-text-repr-fallback\"><pre>LinearRegression()</pre><b>In a Jupyter environment, please rerun this cell to show the HTML representation or trust the notebook. <br />On GitHub, the HTML representation is unable to render, please try loading this page with nbviewer.org.</b></div><div class=\"sk-container\" hidden><div class=\"sk-item\"><div class=\"sk-estimator sk-toggleable\"><input class=\"sk-toggleable__control sk-hidden--visually\" id=\"sk-estimator-id-1\" type=\"checkbox\" checked><label for=\"sk-estimator-id-1\" class=\"sk-toggleable__label sk-toggleable__label-arrow\">LinearRegression</label><div class=\"sk-toggleable__content\"><pre>LinearRegression()</pre></div></div></div></div></div>"
      ],
      "text/plain": [
       "LinearRegression()"
      ]
     },
     "execution_count": 26,
     "metadata": {},
     "output_type": "execute_result"
    }
   ],
   "source": [
    "from sklearn.linear_model import LinearRegression\n",
    "\n",
    "linear = LinearRegression()\n",
    "linear.fit(x_train_scaled, y_train)"
   ]
  },
  {
   "cell_type": "code",
   "execution_count": 35,
   "metadata": {},
   "outputs": [
    {
     "name": "stdout",
     "output_type": "stream",
     "text": [
      "MAE:  3.32616\n",
      "MSE:  22.11246\n",
      "RMSE:  4.70239\n",
      "R2:  0.74546\n"
     ]
    }
   ],
   "source": [
    "from sklearn.metrics import mean_absolute_error, mean_squared_error, r2_score\n",
    "import numpy as np\n",
    "\n",
    "pred_train = linear.predict(x_train_scaled)\n",
    "\n",
    "mae = mean_absolute_error(y_train, pred_train)\n",
    "mse = mean_squared_error(y_train, pred_train)\n",
    "rmse = np.sqrt(mse)\n",
    "r2 = r2_score(y_train, pred_train)\n",
    "\n",
    "print('MAE: {0: .5f}'.format(mae))\n",
    "print('MSE: {0: .5f}'.format(mse))\n",
    "print('RMSE: {0: .5f}'.format(rmse))\n",
    "print('R2: {0: .5f}'.format(r2))"
   ]
  },
  {
   "cell_type": "markdown",
   "metadata": {},
   "source": [
    "### 5. 성능평가 및 예측값 저"
   ]
  },
  {
   "cell_type": "code",
   "execution_count": 36,
   "metadata": {},
   "outputs": [],
   "source": [
    "x_test_scaled = scaler.transform(x_test)\n",
    "pred_test = linear.predict(x_test_scaled)"
   ]
  },
  {
   "cell_type": "code",
   "execution_count": 37,
   "metadata": {},
   "outputs": [
    {
     "name": "stdout",
     "output_type": "stream",
     "text": [
      "MAE:  3.23724\n",
      "MSE:  24.63539\n",
      "RMSE:  4.96341\n",
      "R2:  0.66406\n"
     ]
    }
   ],
   "source": [
    "mae = mean_absolute_error(y_test, pred_test)\n",
    "mse = mean_squared_error(y_test, pred_test)\n",
    "rmse = np.sqrt(mse)\n",
    "r2 = r2_score(y_test, pred_test)\n",
    "\n",
    "print('MAE: {0: .5f}'.format(mae))\n",
    "print('MSE: {0: .5f}'.format(mse))\n",
    "print('RMSE: {0: .5f}'.format(rmse))\n",
    "print('R2: {0: .5f}'.format(r2))"
   ]
  },
  {
   "cell_type": "code",
   "execution_count": 39,
   "metadata": {},
   "outputs": [
    {
     "data": {
      "text/html": [
       "<div>\n",
       "<style scoped>\n",
       "    .dataframe tbody tr th:only-of-type {\n",
       "        vertical-align: middle;\n",
       "    }\n",
       "\n",
       "    .dataframe tbody tr th {\n",
       "        vertical-align: top;\n",
       "    }\n",
       "\n",
       "    .dataframe thead th {\n",
       "        text-align: right;\n",
       "    }\n",
       "</style>\n",
       "<table border=\"1\" class=\"dataframe\">\n",
       "  <thead>\n",
       "    <tr style=\"text-align: right;\">\n",
       "      <th></th>\n",
       "      <th>pred_test_price</th>\n",
       "    </tr>\n",
       "  </thead>\n",
       "  <tbody>\n",
       "    <tr>\n",
       "      <th>0</th>\n",
       "      <td>29.218660</td>\n",
       "    </tr>\n",
       "    <tr>\n",
       "      <th>1</th>\n",
       "      <td>33.551467</td>\n",
       "    </tr>\n",
       "    <tr>\n",
       "      <th>2</th>\n",
       "      <td>14.810658</td>\n",
       "    </tr>\n",
       "    <tr>\n",
       "      <th>3</th>\n",
       "      <td>25.084725</td>\n",
       "    </tr>\n",
       "    <tr>\n",
       "      <th>4</th>\n",
       "      <td>19.173927</td>\n",
       "    </tr>\n",
       "  </tbody>\n",
       "</table>\n",
       "</div>"
      ],
      "text/plain": [
       "   pred_test_price\n",
       "0        29.218660\n",
       "1        33.551467\n",
       "2        14.810658\n",
       "3        25.084725\n",
       "4        19.173927"
      ]
     },
     "execution_count": 39,
     "metadata": {},
     "output_type": "execute_result"
    }
   ],
   "source": [
    "pred_test_df = pd.DataFrame(\n",
    "  pred_test,\n",
    "  columns=['pred_test_price']\n",
    ")\n",
    "pred_test_df.head()"
   ]
  },
  {
   "cell_type": "code",
   "execution_count": 43,
   "metadata": {},
   "outputs": [
    {
     "data": {
      "text/html": [
       "<div>\n",
       "<style scoped>\n",
       "    .dataframe tbody tr th:only-of-type {\n",
       "        vertical-align: middle;\n",
       "    }\n",
       "\n",
       "    .dataframe tbody tr th {\n",
       "        vertical-align: top;\n",
       "    }\n",
       "\n",
       "    .dataframe thead th {\n",
       "        text-align: right;\n",
       "    }\n",
       "</style>\n",
       "<table border=\"1\" class=\"dataframe\">\n",
       "  <thead>\n",
       "    <tr style=\"text-align: right;\">\n",
       "      <th></th>\n",
       "      <th>actual_test_price</th>\n",
       "    </tr>\n",
       "  </thead>\n",
       "  <tbody>\n",
       "    <tr>\n",
       "      <th>0</th>\n",
       "      <td>23.6</td>\n",
       "    </tr>\n",
       "    <tr>\n",
       "      <th>1</th>\n",
       "      <td>32.4</td>\n",
       "    </tr>\n",
       "    <tr>\n",
       "      <th>2</th>\n",
       "      <td>13.6</td>\n",
       "    </tr>\n",
       "    <tr>\n",
       "      <th>3</th>\n",
       "      <td>22.8</td>\n",
       "    </tr>\n",
       "    <tr>\n",
       "      <th>4</th>\n",
       "      <td>16.1</td>\n",
       "    </tr>\n",
       "  </tbody>\n",
       "</table>\n",
       "</div>"
      ],
      "text/plain": [
       "   actual_test_price\n",
       "0               23.6\n",
       "1               32.4\n",
       "2               13.6\n",
       "3               22.8\n",
       "4               16.1"
      ]
     },
     "execution_count": 43,
     "metadata": {},
     "output_type": "execute_result"
    }
   ],
   "source": [
    "actual_test_df = pd.DataFrame(\n",
    "  y_test,\n",
    "  columns=['actual_test_price']\n",
    ")\n",
    "actual_test_df.head()"
   ]
  },
  {
   "cell_type": "code",
   "execution_count": 47,
   "metadata": {},
   "outputs": [
    {
     "data": {
      "text/html": [
       "<div>\n",
       "<style scoped>\n",
       "    .dataframe tbody tr th:only-of-type {\n",
       "        vertical-align: middle;\n",
       "    }\n",
       "\n",
       "    .dataframe tbody tr th {\n",
       "        vertical-align: top;\n",
       "    }\n",
       "\n",
       "    .dataframe thead th {\n",
       "        text-align: right;\n",
       "    }\n",
       "</style>\n",
       "<table border=\"1\" class=\"dataframe\">\n",
       "  <thead>\n",
       "    <tr style=\"text-align: right;\">\n",
       "      <th></th>\n",
       "      <th>actual_test_price</th>\n",
       "      <th>pred_test_price</th>\n",
       "    </tr>\n",
       "  </thead>\n",
       "  <tbody>\n",
       "    <tr>\n",
       "      <th>0</th>\n",
       "      <td>23.6</td>\n",
       "      <td>29.218660</td>\n",
       "    </tr>\n",
       "    <tr>\n",
       "      <th>1</th>\n",
       "      <td>32.4</td>\n",
       "      <td>33.551467</td>\n",
       "    </tr>\n",
       "    <tr>\n",
       "      <th>2</th>\n",
       "      <td>13.6</td>\n",
       "      <td>14.810658</td>\n",
       "    </tr>\n",
       "    <tr>\n",
       "      <th>3</th>\n",
       "      <td>22.8</td>\n",
       "      <td>25.084725</td>\n",
       "    </tr>\n",
       "    <tr>\n",
       "      <th>4</th>\n",
       "      <td>16.1</td>\n",
       "      <td>19.173927</td>\n",
       "    </tr>\n",
       "  </tbody>\n",
       "</table>\n",
       "</div>"
      ],
      "text/plain": [
       "   actual_test_price  pred_test_price\n",
       "0               23.6        29.218660\n",
       "1               32.4        33.551467\n",
       "2               13.6        14.810658\n",
       "3               22.8        25.084725\n",
       "4               16.1        19.173927"
      ]
     },
     "execution_count": 47,
     "metadata": {},
     "output_type": "execute_result"
    }
   ],
   "source": [
    "reg_result = pd.concat(\n",
    "  [actual_test_df, pred_test_df],\n",
    "  axis=1\n",
    ")\n",
    "# reg_result.to_csv(\n",
    "#   'reg_result.csv',\n",
    "#   index=False,\n",
    "#   encoding='utf-8-sig'\n",
    "# )\n",
    "reg_result.head()"
   ]
  },
  {
   "cell_type": "markdown",
   "metadata": {},
   "source": [
    "## 제5절. 머신러닝 분석과정 빠르게 맛보기 - 분류분석\n",
    "- 분류문제(Classification) 데이터로 머신러닝 분석을 처음부터 끝까지 프로세스에 따라 수행한다.\n",
    "- 데이터는 사이킷런의 아이리스(iris) 데이터를 활용한다.\n",
    "- 꽃잎의 각 부분의 너비와 길이 등을 측정한 데이터이며 150개의 레코드로 구성되어 있다.\n",
    "- 아이리스의 종류(Species)를 종속변수(y 또는 레이블)로 하고, 나머지 변수를 독립변수(특성치 또는 feature)로 하여 학습데이터로 모델을 훈련시키고, 평가데이터로 검증한다.\n",
    "\n",
    "### 1. 데이터 확인"
   ]
  },
  {
   "cell_type": "code",
   "execution_count": 52,
   "metadata": {},
   "outputs": [],
   "source": [
    "from sklearn.datasets import load_iris\n",
    "import pandas as pd\n",
    "\n",
    "iris_load = load_iris()\n",
    "iris_dt = iris_load.data\n",
    "iris_label = iris_load.target\n",
    "\n",
    "df = pd.DataFrame(\n",
    "  data=iris_dt,\n",
    "  columns=iris_load.feature_names\n",
    ")\n",
    "df['species'] = iris_label"
   ]
  },
  {
   "cell_type": "code",
   "execution_count": 53,
   "metadata": {},
   "outputs": [
    {
     "data": {
      "text/html": [
       "<div>\n",
       "<style scoped>\n",
       "    .dataframe tbody tr th:only-of-type {\n",
       "        vertical-align: middle;\n",
       "    }\n",
       "\n",
       "    .dataframe tbody tr th {\n",
       "        vertical-align: top;\n",
       "    }\n",
       "\n",
       "    .dataframe thead th {\n",
       "        text-align: right;\n",
       "    }\n",
       "</style>\n",
       "<table border=\"1\" class=\"dataframe\">\n",
       "  <thead>\n",
       "    <tr style=\"text-align: right;\">\n",
       "      <th></th>\n",
       "      <th>sepal length (cm)</th>\n",
       "      <th>sepal width (cm)</th>\n",
       "      <th>petal length (cm)</th>\n",
       "      <th>petal width (cm)</th>\n",
       "      <th>species</th>\n",
       "    </tr>\n",
       "  </thead>\n",
       "  <tbody>\n",
       "    <tr>\n",
       "      <th>0</th>\n",
       "      <td>5.1</td>\n",
       "      <td>3.5</td>\n",
       "      <td>1.4</td>\n",
       "      <td>0.2</td>\n",
       "      <td>0</td>\n",
       "    </tr>\n",
       "    <tr>\n",
       "      <th>1</th>\n",
       "      <td>4.9</td>\n",
       "      <td>3.0</td>\n",
       "      <td>1.4</td>\n",
       "      <td>0.2</td>\n",
       "      <td>0</td>\n",
       "    </tr>\n",
       "    <tr>\n",
       "      <th>2</th>\n",
       "      <td>4.7</td>\n",
       "      <td>3.2</td>\n",
       "      <td>1.3</td>\n",
       "      <td>0.2</td>\n",
       "      <td>0</td>\n",
       "    </tr>\n",
       "    <tr>\n",
       "      <th>3</th>\n",
       "      <td>4.6</td>\n",
       "      <td>3.1</td>\n",
       "      <td>1.5</td>\n",
       "      <td>0.2</td>\n",
       "      <td>0</td>\n",
       "    </tr>\n",
       "    <tr>\n",
       "      <th>4</th>\n",
       "      <td>5.0</td>\n",
       "      <td>3.6</td>\n",
       "      <td>1.4</td>\n",
       "      <td>0.2</td>\n",
       "      <td>0</td>\n",
       "    </tr>\n",
       "  </tbody>\n",
       "</table>\n",
       "</div>"
      ],
      "text/plain": [
       "   sepal length (cm)  sepal width (cm)  petal length (cm)  petal width (cm)  \\\n",
       "0                5.1               3.5                1.4               0.2   \n",
       "1                4.9               3.0                1.4               0.2   \n",
       "2                4.7               3.2                1.3               0.2   \n",
       "3                4.6               3.1                1.5               0.2   \n",
       "4                5.0               3.6                1.4               0.2   \n",
       "\n",
       "   species  \n",
       "0        0  \n",
       "1        0  \n",
       "2        0  \n",
       "3        0  \n",
       "4        0  "
      ]
     },
     "execution_count": 53,
     "metadata": {},
     "output_type": "execute_result"
    }
   ],
   "source": [
    "df.head()"
   ]
  },
  {
   "cell_type": "code",
   "execution_count": 54,
   "metadata": {},
   "outputs": [
    {
     "data": {
      "text/plain": [
       "array([0, 1, 2])"
      ]
     },
     "execution_count": 54,
     "metadata": {},
     "output_type": "execute_result"
    }
   ],
   "source": [
    "df['species'].unique()"
   ]
  },
  {
   "cell_type": "code",
   "execution_count": 55,
   "metadata": {},
   "outputs": [
    {
     "data": {
      "text/plain": [
       "(150, 5)"
      ]
     },
     "execution_count": 55,
     "metadata": {},
     "output_type": "execute_result"
    }
   ],
   "source": [
    "df.shape"
   ]
  },
  {
   "cell_type": "markdown",
   "metadata": {},
   "source": [
    "### 2. 데이터 분할\n",
    "- 아이리스 데이터는 150행으로 데이터의 크기가 작은 편이다.\n",
    "- 학습세트와 평가세트의 비율을 8:2로 나눈 뒤, 학습세트로 교차검증을 수행해 데이터 사이즈의 문제를 극복하고자 한다.\n",
    "- 검증평가를 10회에 걸쳐 진행하도록 K-Fold 교차검증 방식을 적용한다.\n",
    "- 검증평가들의 평균으로 교차검증 최종평가를 결정한다.\n",
    "- 검증결과로 얻은 모델에 평가데이터세트를 적용해 알고리즘 성능을 평가한다."
   ]
  },
  {
   "cell_type": "code",
   "execution_count": 56,
   "metadata": {},
   "outputs": [],
   "source": [
    "from sklearn.model_selection import train_test_split\n",
    "\n",
    "x_train, x_test, y_train, y_test = train_test_split(\n",
    "  iris_dt,\n",
    "  iris_label,\n",
    "  test_size=0.2,\n",
    "  random_state=0,\n",
    "  stratify=iris_label\n",
    ")"
   ]
  },
  {
   "cell_type": "markdown",
   "metadata": {},
   "source": [
    "### 3. 전처리\n",
    "- 아이리스 데이터는 독립변수들이 모두 연속형이고 단위가 동일하기 때문에 표준화 또는 정규화 등의 전처리를 하지 않는다."
   ]
  },
  {
   "cell_type": "code",
   "execution_count": 57,
   "metadata": {},
   "outputs": [
    {
     "data": {
      "text/plain": [
       "sepal length (cm)    0\n",
       "sepal width (cm)     0\n",
       "petal length (cm)    0\n",
       "petal width (cm)     0\n",
       "species              0\n",
       "dtype: int64"
      ]
     },
     "execution_count": 57,
     "metadata": {},
     "output_type": "execute_result"
    }
   ],
   "source": [
    "df.isna().sum()"
   ]
  },
  {
   "cell_type": "markdown",
   "metadata": {},
   "source": [
    "### 4. 모델학습\n",
    "- 분류 모델 중 대표적인 알고리즘인 의사결정나무(Decision Tree)를 사용해 분류 분석을 수행한다."
   ]
  },
  {
   "cell_type": "code",
   "execution_count": 60,
   "metadata": {},
   "outputs": [],
   "source": [
    "from sklearn.tree import DecisionTreeClassifier\n",
    "\n",
    "dtree_clf_5 = DecisionTreeClassifier(\n",
    "  max_depth=5,\n",
    "  random_state=100\n",
    ")\n",
    "dtree_clf_3 = DecisionTreeClassifier(\n",
    "  max_depth=3,\n",
    "  random_state=100\n",
    ")\n",
    "dtree_clf_1 = DecisionTreeClassifier(\n",
    "  max_depth=1,\n",
    "  random_state=100\n",
    ")"
   ]
  },
  {
   "cell_type": "code",
   "execution_count": 62,
   "metadata": {},
   "outputs": [
    {
     "name": "stdout",
     "output_type": "stream",
     "text": [
      "교차검증 정확도:  [0.917 1.    0.917 1.    1.    0.833 1.    0.917 1.    0.833]\n",
      "평균 검증 정확도:  0.9417\n"
     ]
    }
   ],
   "source": [
    "from sklearn.model_selection import cross_val_score\n",
    "\n",
    "scores = cross_val_score(\n",
    "  dtree_clf_5,\n",
    "  x_train,\n",
    "  y_train,\n",
    "  scoring='accuracy',\n",
    "  cv=10\n",
    ")\n",
    "\n",
    "print('교차검증 정확도: ', np.round(scores, 3))\n",
    "print('평균 검증 정확도: ', np.round(np.mean(scores), 4))"
   ]
  },
  {
   "cell_type": "code",
   "execution_count": 63,
   "metadata": {},
   "outputs": [
    {
     "name": "stdout",
     "output_type": "stream",
     "text": [
      "교차검증 정확도:  [0.917 1.    0.917 0.917 1.    0.833 1.    0.917 0.917 0.833]\n",
      "평균 검증 정확도:  0.925\n"
     ]
    }
   ],
   "source": [
    "scores = cross_val_score(\n",
    "  dtree_clf_3,\n",
    "  x_train,\n",
    "  y_train,\n",
    "  scoring='accuracy',\n",
    "  cv=10\n",
    ")\n",
    "\n",
    "print('교차검증 정확도: ', np.round(scores, 3))\n",
    "print('평균 검증 정확도: ', np.round(np.mean(scores), 4))"
   ]
  },
  {
   "cell_type": "code",
   "execution_count": 64,
   "metadata": {},
   "outputs": [
    {
     "name": "stdout",
     "output_type": "stream",
     "text": [
      "교차검증 정확도:  [0.667 0.667 0.667 0.667 0.667 0.667 0.667 0.667 0.667 0.667]\n",
      "평균 검증 정확도:  0.6667\n"
     ]
    }
   ],
   "source": [
    "scores = cross_val_score(\n",
    "  dtree_clf_1,\n",
    "  x_train,\n",
    "  y_train,\n",
    "  scoring='accuracy',\n",
    "  cv=10\n",
    ")\n",
    "\n",
    "print('교차검증 정확도: ', np.round(scores, 3))\n",
    "print('평균 검증 정확도: ', np.round(np.mean(scores), 4))"
   ]
  },
  {
   "cell_type": "markdown",
   "metadata": {},
   "source": [
    "- 교차검증 결과 트리의 깊이를 5로 선정한 dtree_clf_5 모델로 데이터를 학습했을 때 정확도가 가장 높다는 것을 알 수 있다."
   ]
  },
  {
   "cell_type": "markdown",
   "metadata": {},
   "source": [
    "### 5. 성능평가 및 예측값 저장"
   ]
  },
  {
   "cell_type": "code",
   "execution_count": 65,
   "metadata": {},
   "outputs": [],
   "source": [
    "dtree_clf_5.fit(\n",
    "  x_train,\n",
    "  y_train\n",
    ")\n",
    "pred_test = dtree_clf_5.predict(x_test)"
   ]
  },
  {
   "cell_type": "code",
   "execution_count": 66,
   "metadata": {},
   "outputs": [
    {
     "name": "stdout",
     "output_type": "stream",
     "text": [
      "의사결정나무(교차검증 후) 예측 정확도 : 0.96667\n"
     ]
    }
   ],
   "source": [
    "from sklearn.metrics import accuracy_score\n",
    "\n",
    "print('의사결정나무(교차검증 후) 예측 정확도 : {0:.5f}'.format(accuracy_score(y_test, pred_test)))"
   ]
  },
  {
   "cell_type": "code",
   "execution_count": 68,
   "metadata": {},
   "outputs": [
    {
     "data": {
      "text/html": [
       "<div>\n",
       "<style scoped>\n",
       "    .dataframe tbody tr th:only-of-type {\n",
       "        vertical-align: middle;\n",
       "    }\n",
       "\n",
       "    .dataframe tbody tr th {\n",
       "        vertical-align: top;\n",
       "    }\n",
       "\n",
       "    .dataframe thead th {\n",
       "        text-align: right;\n",
       "    }\n",
       "</style>\n",
       "<table border=\"1\" class=\"dataframe\">\n",
       "  <thead>\n",
       "    <tr style=\"text-align: right;\">\n",
       "      <th></th>\n",
       "      <th>pred_species</th>\n",
       "    </tr>\n",
       "  </thead>\n",
       "  <tbody>\n",
       "    <tr>\n",
       "      <th>0</th>\n",
       "      <td>0</td>\n",
       "    </tr>\n",
       "    <tr>\n",
       "      <th>1</th>\n",
       "      <td>1</td>\n",
       "    </tr>\n",
       "    <tr>\n",
       "      <th>2</th>\n",
       "      <td>0</td>\n",
       "    </tr>\n",
       "    <tr>\n",
       "      <th>3</th>\n",
       "      <td>2</td>\n",
       "    </tr>\n",
       "    <tr>\n",
       "      <th>4</th>\n",
       "      <td>0</td>\n",
       "    </tr>\n",
       "  </tbody>\n",
       "</table>\n",
       "</div>"
      ],
      "text/plain": [
       "   pred_species\n",
       "0             0\n",
       "1             1\n",
       "2             0\n",
       "3             2\n",
       "4             0"
      ]
     },
     "execution_count": 68,
     "metadata": {},
     "output_type": "execute_result"
    }
   ],
   "source": [
    "pred = pd.DataFrame(\n",
    "  pred_test,\n",
    "  columns=['pred_species']\n",
    ")\n",
    "pred.head()"
   ]
  },
  {
   "cell_type": "code",
   "execution_count": 69,
   "metadata": {},
   "outputs": [
    {
     "data": {
      "text/html": [
       "<div>\n",
       "<style scoped>\n",
       "    .dataframe tbody tr th:only-of-type {\n",
       "        vertical-align: middle;\n",
       "    }\n",
       "\n",
       "    .dataframe tbody tr th {\n",
       "        vertical-align: top;\n",
       "    }\n",
       "\n",
       "    .dataframe thead th {\n",
       "        text-align: right;\n",
       "    }\n",
       "</style>\n",
       "<table border=\"1\" class=\"dataframe\">\n",
       "  <thead>\n",
       "    <tr style=\"text-align: right;\">\n",
       "      <th></th>\n",
       "      <th>actual_species</th>\n",
       "    </tr>\n",
       "  </thead>\n",
       "  <tbody>\n",
       "    <tr>\n",
       "      <th>0</th>\n",
       "      <td>0</td>\n",
       "    </tr>\n",
       "    <tr>\n",
       "      <th>1</th>\n",
       "      <td>1</td>\n",
       "    </tr>\n",
       "    <tr>\n",
       "      <th>2</th>\n",
       "      <td>0</td>\n",
       "    </tr>\n",
       "    <tr>\n",
       "      <th>3</th>\n",
       "      <td>2</td>\n",
       "    </tr>\n",
       "    <tr>\n",
       "      <th>4</th>\n",
       "      <td>0</td>\n",
       "    </tr>\n",
       "  </tbody>\n",
       "</table>\n",
       "</div>"
      ],
      "text/plain": [
       "   actual_species\n",
       "0               0\n",
       "1               1\n",
       "2               0\n",
       "3               2\n",
       "4               0"
      ]
     },
     "execution_count": 69,
     "metadata": {},
     "output_type": "execute_result"
    }
   ],
   "source": [
    "actual = pd.DataFrame(\n",
    "  y_test,\n",
    "  columns=['actual_species']\n",
    ")\n",
    "actual.head()"
   ]
  },
  {
   "cell_type": "code",
   "execution_count": 70,
   "metadata": {},
   "outputs": [
    {
     "data": {
      "text/html": [
       "<div>\n",
       "<style scoped>\n",
       "    .dataframe tbody tr th:only-of-type {\n",
       "        vertical-align: middle;\n",
       "    }\n",
       "\n",
       "    .dataframe tbody tr th {\n",
       "        vertical-align: top;\n",
       "    }\n",
       "\n",
       "    .dataframe thead th {\n",
       "        text-align: right;\n",
       "    }\n",
       "</style>\n",
       "<table border=\"1\" class=\"dataframe\">\n",
       "  <thead>\n",
       "    <tr style=\"text-align: right;\">\n",
       "      <th></th>\n",
       "      <th>actual_species</th>\n",
       "      <th>pred_species</th>\n",
       "    </tr>\n",
       "  </thead>\n",
       "  <tbody>\n",
       "    <tr>\n",
       "      <th>0</th>\n",
       "      <td>0</td>\n",
       "      <td>0</td>\n",
       "    </tr>\n",
       "    <tr>\n",
       "      <th>1</th>\n",
       "      <td>1</td>\n",
       "      <td>1</td>\n",
       "    </tr>\n",
       "    <tr>\n",
       "      <th>2</th>\n",
       "      <td>0</td>\n",
       "      <td>0</td>\n",
       "    </tr>\n",
       "    <tr>\n",
       "      <th>3</th>\n",
       "      <td>2</td>\n",
       "      <td>2</td>\n",
       "    </tr>\n",
       "    <tr>\n",
       "      <th>4</th>\n",
       "      <td>0</td>\n",
       "      <td>0</td>\n",
       "    </tr>\n",
       "  </tbody>\n",
       "</table>\n",
       "</div>"
      ],
      "text/plain": [
       "   actual_species  pred_species\n",
       "0               0             0\n",
       "1               1             1\n",
       "2               0             0\n",
       "3               2             2\n",
       "4               0             0"
      ]
     },
     "execution_count": 70,
     "metadata": {},
     "output_type": "execute_result"
    }
   ],
   "source": [
    "classify_result = pd.concat(\n",
    "  [actual, pred],\n",
    "  axis=1\n",
    ")\n",
    "# classify_result.to_csv(\n",
    "#   'clf_result.csv',\n",
    "#   index=False,\n",
    "#   encoding='utf-8-sig'\n",
    "# )\n",
    "classify_result.head()"
   ]
  }
 ],
 "metadata": {
  "kernelspec": {
   "display_name": "Python 3.9.7 64-bit",
   "language": "python",
   "name": "python3"
  },
  "language_info": {
   "codemirror_mode": {
    "name": "ipython",
    "version": 3
   },
   "file_extension": ".py",
   "mimetype": "text/x-python",
   "name": "python",
   "nbconvert_exporter": "python",
   "pygments_lexer": "ipython3",
   "version": "3.9.7"
  },
  "orig_nbformat": 4,
  "vscode": {
   "interpreter": {
    "hash": "c8375c55c81336353887004a8a0ed729a5528664cfa1d07c62a42c846a25ebdb"
   }
  }
 },
 "nbformat": 4,
 "nbformat_minor": 2
}
