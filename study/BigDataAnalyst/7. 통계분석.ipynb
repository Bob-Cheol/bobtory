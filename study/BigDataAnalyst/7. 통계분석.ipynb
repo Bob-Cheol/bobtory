{
 "cells": [
  {
   "cell_type": "markdown",
   "metadata": {},
   "source": [
    "# 제7장. 통계분석\n",
    "- 통계분석은 데이터를 가공하고 분석기법을 사용하는 것도 중요하지만 결과를 해석하는 것이 더 중요하다.\n",
    "- 데이터 분석가는 적재적소에 알맞은 알고리즘을 적용시켜 분석을 진행해야 한다.\n",
    "- 그러므로 데이터에 알맞게 통계기법을 선택하는 것은 매우 중요한 일이다.\n",
    "\n",
    "## 제1절. 통계분석 프로세스\n",
    "\n",
    "### 1. 통계\n",
    "\n",
    "#### 1. 개념 설명\n",
    "- 통계란 특정집단을 대상으로 수행한 조사나 실험을 통해 나온 결과에 대한 요약된 형태의 표현이다.\n",
    "- 통계분석에 사용되는 데이터는 조사 또는 실험을 통해 확보되며, 조사대상에 따라 조사는 총조사와 표본조사로 구분된다.\n",
    "\n",
    "#### 2. 통계 용어 설명\n",
    "- **총조사** : 대상 집단 모두를 조사하는 방법이며, 특별한 경우를 제외하고는 사용되지 않는다. 그러므로 통계분석에서는 대부분의 데이터를 표본이라고 가정한다.\n",
    "- **표본조사** : 조사하고자 하는 대상의 일부만을 조사하는 방법이며, 표본을 추출하는 방식은 분석 결과에 큰 영향을 준다.\n",
    "  - **모집단** : 연구자가 알고싶어 하는 대상 혹은 집단 전체\n",
    "  - **모수(Parameter)** : 표본 관측에 의해 구하고자 하는 모집단에 대한 정보\n",
    "  - **표본(Sample)** : 연구자가 특정 또는 관찰한 결과들의 집합\n",
    "\n",
    "### 2. 전체 흐름\n",
    "- 통계분석의 전체 프로세스는 제5장에서 설명한 머신러닝 프로세스와 매우 유사하다.\n",
    "- 통계분석의 목적도 머신러닝과 마찬가지로 데이터를 보고 어떠한 insight를 찾거나 어떠한 가설을 증명하는 데 있기 때문이다.\n",
    "- 문제정의 -> 데이터 수집 -> 데이터 탐색 및 전처리 -> 데이터 변환 및 정제 -> 통계 모형 수립 -> 모형 적합 -> 모형 평가 -> 결론 도출\n",
    "\n",
    "### 3. 가설검정\n",
    "#### 1. 개념\n",
    "- 가설검정이란 일반적으로 모집단의 모수를 추정하는 과정에서 이루어진다.\n",
    "- 예를 들어, 하나의 표본평균을 가지고 모집단의 평균을 추정하거나, 두 개의 표본집단을 가지고 두 모집단의 평균을 비교하는 과정에서 이루어진다.\n",
    "- 일반적으로 새롭게 주장하고자 하는 가설을 대립가설(H1)이라고 한다.\n",
    "- 새로운 주장이 타당하지 않았을 때, 현재 믿어지고 있는 가설로 돌아가게 되는데 이를 귀무가설(H0)이라 한다.\n",
    "- **양측검정**\n",
    "  - 귀무가설($H_0$) : $\\mu=200$, 대립가설($H_1$) : $\\mu\\ne200$\n",
    "- **단측검정**\n",
    "  - 귀무가설($H_0$) : $\\mu>200$, 대립가설($H_1$) : $\\mu\\le200$\n",
    "\n",
    "#### 2. 가설이 채택되는 과정\n",
    "- 귀무가설을 기각하는 기준을 유의수준($\\alpha$)이라고 하며 이 유의수준은 분석가와 산업에 따라 정해진다(보통은 0.05).\n",
    "- 대립가설이 유의하지 않으나 우연히 채택될 확률인 p-value 값이 이 유의수준보다 작다면, 귀무가설을 기각한다.\n",
    "- 그리고 이와 같이 귀무가설을 기각할때, 이 대립가설은 유의하다고 한다.\n",
    "\n",
    "#### 3. 기각역과 임곗값(Critical Value)\n",
    "- Critical Value는 유의수준과 가설 분포에 따라 달라진다.\n",
    "- 어떠한 검정을 하면, 검정에 따른 분포를 사용하게 되고, 그 분포의 통계치를 구하게 된다($T$, $F$, $X^2$ 등).\n",
    "- 양측 검정 중 양수의 값을 가지는 우측 검정만 본다면 가설검정에서 구한 통계치, test-statistic이 critical-value보다 높을 시 이 귀무가설은 기각되며, 새로운 대립가설이 채택된다."
   ]
  },
  {
   "cell_type": "markdown",
   "metadata": {},
   "source": [
    "## 제2절. t-test\n",
    "\n",
    "### 1. t-test의 개념\n",
    "- t-test는 검정통계량이 귀무가설 하에서 t-분포를 따르는 통계적 가설 검정 방법이다.\n",
    "- 어느 특정 집단의 평균의 값을 추정하거나 차이를 검정할 때 사용할 수 있다.\n",
    "- 종속변수는 평균값을 가질 수 있는 연속형 변수여야 하고, 독립변수는 성별, 종교, 부서와 같은 범주형 변수여야 한다.\n",
    "- 통계적 분석 개념에 분산을 사용하여, 차이를 통계적으로 표현한 것이 t 검정통계량이다.\n",
    "- 표본이 1개일 때의 t 통계량 계산 방법\n",
    "  - $t=\\displaystyle{\\bar{x}-\\mu\\over s/\\sqrt{n}}$\n",
    "- 표본이 2개일 때의 t 통계량 계산 방법\n",
    "  - $t=\\displaystyle{\\bar{X_1} - \\bar{X_2}\\over\\displaystyle\\sqrt{[{(N_1-1)S_1+(N_2-1)S_2\\over N_1+N_2-2}]\\times[{N_1+N_2\\over N_1\\times N_2}]}}$\n",
    "- 이와 같이 분석 환경이 달라짐에 따라 t-test는 계산 공식이 달라진다.\n",
    "- t-test에는 대표적으로 3가지의 분석 방법이 있다.\n",
    "\n",
    "### 2. 일표본 T-검정(One Sample t-test)\n",
    "#### 1. 개념\n",
    "- 단일 모집단에서 관심이 있는 연속형 변수의 평균값을 특정 기준값과 비교한다.\n",
    "- 가정 : 모집단의 구성요소들이 정규분포를 이룬다는 가정이다.\n",
    "  - 종속변수는 연속형이어야 한다.\n",
    "  - 검증하고자 하는 기준값이 있어야 한다.\n",
    "\n",
    "#### 2. 단계\n",
    "- 가설수립\n",
    "  - 귀무가설($H_0$) : 모평균의 값은 **이다.\n",
    "  - 대립가설($H_1$) : 모평균의 값은 **이 아니다.\n",
    "- 유의수준($\\alpha$) 설정 : 기본적으로 0.05\n",
    "- 검정통계량의 값 및 p-value(유의확률) 계산\n",
    "- 귀무가설의 기각여부 판단 및 해석\n",
    "\n",
    "#### 3. 파이썬을 활용한 일표본 t-test\n",
    "Shapiro test 함수 설명\\\n",
    "`scipy.stats.shapiro(x)`\n",
    "  - 귀무가설 : 정규성을 가진다.\n",
    "  - 대립가설 : 정규성을 가지지 않는다.\n",
    "\n",
    "파이썬을 활용한 일표본 t-tes\n",
    "- cats 데이터에서 고양이들의 평균몸무게가 2.6kg인지 아닌지 통계적으로 검정을 수행하고, 결과를 해석해보자(양측검정, 유의수준=0.05).\n",
    "- https://raw.githubusercontent.com/ADPclass/ADP_book_ver01/main/data/cats.csv"
   ]
  },
  {
   "cell_type": "code",
   "execution_count": 2,
   "metadata": {},
   "outputs": [
    {
     "data": {
      "text/html": [
       "<div>\n",
       "<style scoped>\n",
       "    .dataframe tbody tr th:only-of-type {\n",
       "        vertical-align: middle;\n",
       "    }\n",
       "\n",
       "    .dataframe tbody tr th {\n",
       "        vertical-align: top;\n",
       "    }\n",
       "\n",
       "    .dataframe thead th {\n",
       "        text-align: right;\n",
       "    }\n",
       "</style>\n",
       "<table border=\"1\" class=\"dataframe\">\n",
       "  <thead>\n",
       "    <tr style=\"text-align: right;\">\n",
       "      <th></th>\n",
       "      <th>Sex</th>\n",
       "      <th>Bwt</th>\n",
       "      <th>Hwt</th>\n",
       "    </tr>\n",
       "  </thead>\n",
       "  <tbody>\n",
       "    <tr>\n",
       "      <th>0</th>\n",
       "      <td>F</td>\n",
       "      <td>2.0</td>\n",
       "      <td>7.0</td>\n",
       "    </tr>\n",
       "    <tr>\n",
       "      <th>1</th>\n",
       "      <td>F</td>\n",
       "      <td>2.0</td>\n",
       "      <td>7.4</td>\n",
       "    </tr>\n",
       "    <tr>\n",
       "      <th>2</th>\n",
       "      <td>F</td>\n",
       "      <td>2.0</td>\n",
       "      <td>9.5</td>\n",
       "    </tr>\n",
       "    <tr>\n",
       "      <th>3</th>\n",
       "      <td>F</td>\n",
       "      <td>2.1</td>\n",
       "      <td>7.2</td>\n",
       "    </tr>\n",
       "    <tr>\n",
       "      <th>4</th>\n",
       "      <td>F</td>\n",
       "      <td>2.1</td>\n",
       "      <td>7.3</td>\n",
       "    </tr>\n",
       "    <tr>\n",
       "      <th>...</th>\n",
       "      <td>...</td>\n",
       "      <td>...</td>\n",
       "      <td>...</td>\n",
       "    </tr>\n",
       "    <tr>\n",
       "      <th>139</th>\n",
       "      <td>M</td>\n",
       "      <td>3.7</td>\n",
       "      <td>11.0</td>\n",
       "    </tr>\n",
       "    <tr>\n",
       "      <th>140</th>\n",
       "      <td>M</td>\n",
       "      <td>3.8</td>\n",
       "      <td>14.8</td>\n",
       "    </tr>\n",
       "    <tr>\n",
       "      <th>141</th>\n",
       "      <td>M</td>\n",
       "      <td>3.8</td>\n",
       "      <td>16.8</td>\n",
       "    </tr>\n",
       "    <tr>\n",
       "      <th>142</th>\n",
       "      <td>M</td>\n",
       "      <td>3.9</td>\n",
       "      <td>14.4</td>\n",
       "    </tr>\n",
       "    <tr>\n",
       "      <th>143</th>\n",
       "      <td>M</td>\n",
       "      <td>3.9</td>\n",
       "      <td>20.5</td>\n",
       "    </tr>\n",
       "  </tbody>\n",
       "</table>\n",
       "<p>144 rows × 3 columns</p>\n",
       "</div>"
      ],
      "text/plain": [
       "    Sex  Bwt   Hwt\n",
       "0     F  2.0   7.0\n",
       "1     F  2.0   7.4\n",
       "2     F  2.0   9.5\n",
       "3     F  2.1   7.2\n",
       "4     F  2.1   7.3\n",
       "..   ..  ...   ...\n",
       "139   M  3.7  11.0\n",
       "140   M  3.8  14.8\n",
       "141   M  3.8  16.8\n",
       "142   M  3.9  14.4\n",
       "143   M  3.9  20.5\n",
       "\n",
       "[144 rows x 3 columns]"
      ]
     },
     "execution_count": 2,
     "metadata": {},
     "output_type": "execute_result"
    }
   ],
   "source": [
    "import pandas as pd\n",
    "\n",
    "cats = pd.read_csv('./datasets/cats.csv')\n",
    "\n",
    "cats"
   ]
  },
  {
   "cell_type": "code",
   "execution_count": 3,
   "metadata": {},
   "outputs": [
    {
     "name": "stdout",
     "output_type": "stream",
     "text": [
      "<class 'pandas.core.frame.DataFrame'>\n",
      "RangeIndex: 144 entries, 0 to 143\n",
      "Data columns (total 3 columns):\n",
      " #   Column  Non-Null Count  Dtype  \n",
      "---  ------  --------------  -----  \n",
      " 0   Sex     144 non-null    object \n",
      " 1   Bwt     144 non-null    float64\n",
      " 2   Hwt     144 non-null    float64\n",
      "dtypes: float64(2), object(1)\n",
      "memory usage: 3.5+ KB\n"
     ]
    }
   ],
   "source": [
    "cats.info()"
   ]
  },
  {
   "cell_type": "code",
   "execution_count": 5,
   "metadata": {},
   "outputs": [
    {
     "data": {
      "text/plain": [
       "ShapiroResult(statistic=0.9518786668777466, pvalue=6.730228778906167e-05)"
      ]
     },
     "execution_count": 5,
     "metadata": {},
     "output_type": "execute_result"
    }
   ],
   "source": [
    "import scipy.stats as stats\n",
    "from scipy.stats import shapiro\n",
    "\n",
    "mu = 2.6\n",
    "shapiro(cats['Bwt'])"
   ]
  },
  {
   "cell_type": "markdown",
   "metadata": {},
   "source": [
    "ShapiroResult\n",
    "- statistic : 검정통계치\n",
    "- pvalue : p-value"
   ]
  },
  {
   "cell_type": "markdown",
   "metadata": {},
   "source": [
    "- 결과가 유의수준보다 작으므로 '데이터가 정규분포를 따른다'는 귀무가설을 기각한다.\n",
    "- 즉, cats 데이터의 Bwt 변수는 정규분포를 따르지 않는다.\n",
    "- 데이터가 정규분포를 따르지 않으므로 wilcoxon test로 t-test를 진행한다.\n",
    "- 만약 정규분포를 따른다면 `stats.ttest_1samp(cats['Bwt'], popmean=mu)`를 사용하면 된다."
   ]
  },
  {
   "cell_type": "code",
   "execution_count": 6,
   "metadata": {},
   "outputs": [
    {
     "data": {
      "text/plain": [
       "WilcoxonResult(statistic=3573.0, pvalue=0.02524520294814093)"
      ]
     },
     "execution_count": 6,
     "metadata": {},
     "output_type": "execute_result"
    }
   ],
   "source": [
    "stats.wilcoxon(\n",
    "  cats['Bwt'] - mu,\n",
    "  alternative='two-sided'\n",
    ")"
   ]
  },
  {
   "cell_type": "code",
   "execution_count": 9,
   "metadata": {},
   "outputs": [],
   "source": [
    "cats_Bwt_cnt = cats['Bwt'].value_counts(sort=False)"
   ]
  },
  {
   "cell_type": "code",
   "execution_count": 10,
   "metadata": {},
   "outputs": [
    {
     "data": {
      "image/png": "[encoded data removed]",
      "text/plain": [
       "<Figure size 432x288 with 1 Axes>"
      ]
     },
     "metadata": {
      "needs_background": "light"
     },
     "output_type": "display_data"
    }
   ],
   "source": [
    "import matplotlib.pyplot as plt\n",
    "\n",
    "plt.bar(\n",
    "  cats_Bwt_cnt.index,\n",
    "  cats_Bwt_cnt.values,\n",
    "  0.4\n",
    ")\n",
    "plt.title('Bwt')\n",
    "plt.ylabel('Count')\n",
    "plt.show()"
   ]
  },
  {
   "cell_type": "markdown",
   "metadata": {},
   "source": [
    "- 시각화한 고양이 몸무게의 그래프를 보더라도, 해당 데이터는 정규성을 띄지 않음을 알 수 있으며, Wilcoxon test 결과 p-value는 유의수준 0.05보다 작으므로 '고양이의 몸무게가 2.6kg이다'라는 귀무가설을 기각할 수 있다.\n",
    "- 즉, 유의수준 0.05 하에 고양이의 평균 몸무게는 2.6kg이라고 할 수 없다."
   ]
  },
  {
   "cell_type": "markdown",
   "metadata": {},
   "source": [
    "### 3. 대응표본 T-검정(Paired Sample t-test)\n",
    "\n",
    "#### 1. 개념\n",
    "- 단일 모집단에 대해 어떠한 처리를 가했을 때, 처리 전후에 따른 평균의 차이를 비교할 때 사용한다.\n",
    "- 표본 내에 개체들에 대해 두 번의 측정을 한다(같은 집단이므로 등분산성 만족).\n",
    "- 모집단의 관측값이 정규성을 만족해야 한다는 가정이 있다.\n",
    "\n",
    "#### 2. 단계\n",
    "- 가설수립\n",
    "  - 귀무가설($H_0$) : 두 모평균 사이의 차이는 없다.\n",
    "  - 대립가설($H_1$) : 두 모평균 사이의 차이는 있다.\n",
    "- 유의수준($\\alpha$) 설정 : 기본적으로 0.05\n",
    "- 검정통계량 및 p-value 계산\n",
    "- 귀무가설의 기각여부 판단 및 해석\n",
    "\n",
    "#### 3. 파이썬을 활용한 대응표본 t-test\n",
    "- 10명의 환자 대상 수면영양제 복용 전과 후의 수면시간을 측정하였다.\n",
    "- 영양제의 효과가 있는지를 판단해보자\n",
    "  - 표본이 정규성을 만족한다는 가정 하에 검정 수행, 만족하지 않으면 Wilcoxon-test 진행, 유의수준 0.05"
   ]
  },
  {
   "cell_type": "code",
   "execution_count": 11,
   "metadata": {},
   "outputs": [
    {
     "data": {
      "text/html": [
       "<div>\n",
       "<style scoped>\n",
       "    .dataframe tbody tr th:only-of-type {\n",
       "        vertical-align: middle;\n",
       "    }\n",
       "\n",
       "    .dataframe tbody tr th {\n",
       "        vertical-align: top;\n",
       "    }\n",
       "\n",
       "    .dataframe thead th {\n",
       "        text-align: right;\n",
       "    }\n",
       "</style>\n",
       "<table border=\"1\" class=\"dataframe\">\n",
       "  <thead>\n",
       "    <tr style=\"text-align: right;\">\n",
       "      <th></th>\n",
       "      <th>before</th>\n",
       "      <th>after</th>\n",
       "    </tr>\n",
       "  </thead>\n",
       "  <tbody>\n",
       "    <tr>\n",
       "      <th>0</th>\n",
       "      <td>7</td>\n",
       "      <td>8</td>\n",
       "    </tr>\n",
       "    <tr>\n",
       "      <th>1</th>\n",
       "      <td>3</td>\n",
       "      <td>4</td>\n",
       "    </tr>\n",
       "    <tr>\n",
       "      <th>2</th>\n",
       "      <td>4</td>\n",
       "      <td>5</td>\n",
       "    </tr>\n",
       "    <tr>\n",
       "      <th>3</th>\n",
       "      <td>5</td>\n",
       "      <td>6</td>\n",
       "    </tr>\n",
       "    <tr>\n",
       "      <th>4</th>\n",
       "      <td>2</td>\n",
       "      <td>2</td>\n",
       "    </tr>\n",
       "    <tr>\n",
       "      <th>5</th>\n",
       "      <td>1</td>\n",
       "      <td>3</td>\n",
       "    </tr>\n",
       "    <tr>\n",
       "      <th>6</th>\n",
       "      <td>6</td>\n",
       "      <td>6</td>\n",
       "    </tr>\n",
       "    <tr>\n",
       "      <th>7</th>\n",
       "      <td>6</td>\n",
       "      <td>8</td>\n",
       "    </tr>\n",
       "    <tr>\n",
       "      <th>8</th>\n",
       "      <td>5</td>\n",
       "      <td>6</td>\n",
       "    </tr>\n",
       "    <tr>\n",
       "      <th>9</th>\n",
       "      <td>4</td>\n",
       "      <td>5</td>\n",
       "    </tr>\n",
       "  </tbody>\n",
       "</table>\n",
       "</div>"
      ],
      "text/plain": [
       "   before  after\n",
       "0       7      8\n",
       "1       3      4\n",
       "2       4      5\n",
       "3       5      6\n",
       "4       2      2\n",
       "5       1      3\n",
       "6       6      6\n",
       "7       6      8\n",
       "8       5      6\n",
       "9       4      5"
      ]
     },
     "execution_count": 11,
     "metadata": {},
     "output_type": "execute_result"
    }
   ],
   "source": [
    "data = {\n",
    "  'before':[7, 3, 4, 5, 2, 1, 6, 6, 5, 4],\n",
    "  'after':[8, 4, 5, 6, 2, 3, 6, 8, 6, 5]\n",
    "}\n",
    "data = pd.DataFrame(data)\n",
    "\n",
    "data"
   ]
  },
  {
   "cell_type": "markdown",
   "metadata": {},
   "source": [
    "- 해당 데이터를 검정하기 위한 가설을 수립한다.\n",
    "  - 귀무가설 : 수면제 복용 전과 후의 수면시간 차이는 없다.\n",
    "  - 대립가설 : 수면제 복용 전과 후의 수면시간 차이가 있다.\n",
    "- 가설을 수립하고 대응표본 t-test를 진행해보자"
   ]
  },
  {
   "cell_type": "code",
   "execution_count": 12,
   "metadata": {},
   "outputs": [
    {
     "data": {
      "text/plain": [
       "Ttest_relResult(statistic=4.743416490252569, pvalue=0.0005269356285082765)"
      ]
     },
     "execution_count": 12,
     "metadata": {},
     "output_type": "execute_result"
    }
   ],
   "source": [
    "stats.ttest_rel(\n",
    "  data['after'],\n",
    "  data['before'],\n",
    "  alternative='greater'\n",
    ")"
   ]
  },
  {
   "cell_type": "code",
   "execution_count": 13,
   "metadata": {},
   "outputs": [
    {
     "data": {
      "text/plain": [
       "before    4.3\n",
       "after     5.3\n",
       "dtype: float64"
      ]
     },
     "execution_count": 13,
     "metadata": {},
     "output_type": "execute_result"
    }
   ],
   "source": [
    "data.mean()"
   ]
  },
  {
   "cell_type": "markdown",
   "metadata": {},
   "source": [
    "- 검정결과 p-value 값은 유의수준 0.05보다 작으므로 귀무가설을 기각하고, 대립가설을 채택한다.\n",
    "- '수면영양제를 복용하기 전과 후의 평균 수면시간의 차이는 통계적으로 유의하며, 영양제를 복용한 후 수면시간이 늘었다'는 결론을 내릴 수 있다."
   ]
  },
  {
   "cell_type": "markdown",
   "metadata": {},
   "source": [
    "### 4. 독립표본 t-test(Independent Sample t-test)\n",
    "\n",
    "#### 1. 개념\n",
    "- 두 개의 독립된 모집단의 평균을 비교할 때 사용한다.\n",
    "- 그러므로 모집단, 모수, 표본이 모두 두 개씩 존재한다(등분산성 가정을 해주어야 함).\n",
    "- 가정\n",
    "  - 두 모집단은 정규성을 만족해야 한다.\n",
    "  - 두 모집단의 분산이 서로 같아야 한다(등분산성 가정).\n",
    "\n",
    "#### 2. 단계\n",
    "- 가설 수립\n",
    "  - 귀무가설 : 두 모평균 사이의 차이는 없다.\n",
    "  - 대립가설 : 두 모평균 사이의 차이가 있다.\n",
    "- 유의수준($\\alpha$) 설정 : 기본적으로 0.05\n",
    "- 정규성, 등분산성 가설검정\n",
    "- 검정통계량의 값 및 p-value(유의확률) 계산\n",
    "- 귀무가설의 기각여부 판단 및 해석\n",
    "\n",
    "#### 3. 파이썬을 활용한 독립표본 t-test\n",
    "- 위에서 사용한 cats 데이터를 가지고 정규성을 따른다는 가정하에, 수컷인 고양이와 암컷인 고양이의 몸무게 차이를 비교한다.\n",
    "  - 귀무가설 : 수컷과 암컷 고양이의 몸무게 차이는 없다.\n",
    "  - 대립가설 : 수컷과 암컷 고양이의 몸무게 차이가 있다.\n",
    "- 정규성을 만족한다는 가정 하에 cats 데이터에서 등분산성 검정(levene-test)을 진행한다."
   ]
  },
  {
   "cell_type": "code",
   "execution_count": 14,
   "metadata": {},
   "outputs": [
    {
     "data": {
      "text/plain": [
       "LeveneResult(statistic=19.43101190877999, pvalue=2.0435285255189404e-05)"
      ]
     },
     "execution_count": 14,
     "metadata": {},
     "output_type": "execute_result"
    }
   ],
   "source": [
    "cats = pd.read_csv('./datasets/cats.csv')\n",
    "\n",
    "female = cats.loc[cats['Sex'] == 'F', 'Bwt']\n",
    "male = cats.loc[cats['Sex'] == 'M', 'Bwt']\n",
    "\n",
    "stats.levene(female, male)"
   ]
  },
  {
   "cell_type": "markdown",
   "metadata": {},
   "source": [
    "- p-value가 0.05보다 작으므로 두 집단의 분산은 같지 않다.\n",
    "- 성별에 따른 몸무게가 등분산성을 만족하지 않으므로 `equal_var=False`로 독립 t-test를 진행한다."
   ]
  },
  {
   "cell_type": "code",
   "execution_count": 15,
   "metadata": {},
   "outputs": [
    {
     "data": {
      "text/plain": [
       "Ttest_indResult(statistic=-8.70948849909559, pvalue=8.831034455859356e-15)"
      ]
     },
     "execution_count": 15,
     "metadata": {},
     "output_type": "execute_result"
    }
   ],
   "source": [
    "stats.ttest_ind(\n",
    "  female,\n",
    "  male,\n",
    "  equal_var=False\n",
    ")"
   ]
  },
  {
   "cell_type": "markdown",
   "metadata": {},
   "source": [
    "- p-value가 0.05보다 작으므로 귀무가설을 기각하고, '수컷과 암컷 고양이의 몸무게 차이가 있다'는 대립가설을 채택한다."
   ]
  },
  {
   "cell_type": "code",
   "execution_count": 17,
   "metadata": {},
   "outputs": [
    {
     "data": {
      "image/png": "[encoded data removed]",
      "text/plain": [
       "<Figure size 1440x360 with 2 Axes>"
      ]
     },
     "metadata": {
      "needs_background": "light"
     },
     "output_type": "display_data"
    }
   ],
   "source": [
    "female_Bwt_cnt = female.value_counts(sort=False)\n",
    "male_Bwt_cnt = male.value_counts(sort=False)\n",
    "\n",
    "fig, axs = plt.subplots(\n",
    "  1,\n",
    "  2,\n",
    "  figsize=(20, 5)\n",
    ")\n",
    "fig.suptitle('Bar plot')\n",
    "axs[0].bar(female_Bwt_cnt.index, female_Bwt_cnt.values)\n",
    "axs[0].set_title('female_Bwt')\n",
    "axs[0].set_ylabel('Count')\n",
    "axs[1].bar(male_Bwt_cnt.index, male_Bwt_cnt.values)\n",
    "axs[1].set_title('male_Bwt')\n",
    "axs[1].set_ylabel('Count')\n",
    "plt.show()"
   ]
  },
  {
   "cell_type": "markdown",
   "metadata": {},
   "source": [
    "## 제3절. 분산분석(ANOVA; Analysis of variance)\n",
    "\n",
    "### 1. 검정의 목적\n",
    "- T-검정이 두 집단 간의 평균 차이를 비교하는 통계분석 방법이라면 분산분석은 두 개 이상의 다수 집단 간 평균을 비교하는 통계분석 방법이다.\n",
    "- 종속변수는 연속형이어야 하며, 독립변수는 범주형 변수여야 한다.\n",
    "- 분산분석은 개수에 따라 일원배치, 이원배치, 다원배치 분산분석으로 나누어진다.\n",
    "\n",
    "### 2. 분산분석의 개념\n",
    "- 분산분석은 두 개 이상의 집단에서 그룹 평균 간 차이를 그룹 내 변동에 비교하여 살펴보는 통계분석 방법이다.\n",
    "- 집단 내에 분산(차이)보다 다른 집단과의 분산(차이)이 더 크면 유의하다고 할 수 있다는 개념을 갖고 있다.\n",
    "- 즉, 분산분석은 두 개 이상 집단들의 평균이 같은지를 통계적으로 검증하는 방법이다.\n",
    "\n",
    "|구분|명칭|독립변수 개수|종속변수 개수|\n",
    "|:---:|:---:|:---:|:---:|\n",
    "|단일변량 분산분석|일원배치 분산분석|1개|1개|\n",
    "|단일변량 분산분석|이원배치 분산분석|2개|1개|\n",
    "|단일변량 분산분석|다원배치 분산분석|3개 이상|1개|\n",
    "|다변량 분산분석|MANOVA|1개 이상|2개 이상|\n",
    "\n",
    "### 3. 일원배치 분산분석(One-way ANOVA)\n",
    "#### 1. 개념\n",
    "- 반응값에 대한 하나의 범주형 변수의 영향을 알아보기 위해 사용되는 검증 방법이다.\n",
    "- 모집단의 수에는 제한이 없으며, 각 표본의 수는 같지 않아도 된다.\n",
    "- F 검정 통계량을 이용한다.\n",
    "\n",
    "|요인|제곱합|자유도|평균제곱|F-value|p|\n",
    "|:---:|:---:|:---:|:---:|:---:|:---:|\n",
    "|집단 간|SSB|집단 수 - 1|집단 간 제곱합 / 자유도|집단 간 평균제곱 / 집단 내 평균제곱|-|\n",
    "|집단 내|SSW|자료 수 - 집단 수|집단 내 제곱합 / 자유도|집단 간 평균제곱 / 집단 내 평균제곱|-|\n",
    "|합계|TSS|자료 수 - 1|-|집단 간 평균제곱 / 집단 내 평균제곱|-|\n",
    "\n",
    "- 가설검정에 사용되는 F 검정통계량의 값을 살펴보면 평균의 차이의 계산이 아니라 분산의 비율값이다.\n",
    "- 즉, 분산분석에서 집단 내 분산보다 집단 간 분산이 크다면 F값은 커지고 귀무가설을 기각할 확률이 높아진다.\n",
    "- 즉, k개의 집단의 차이가 있다고 할 확률이 높아진다고 할 수 있다.\n",
    "\n",
    "#### 2. 가정\n",
    "- 집단의 측정치는 서로 독립적이며, 정규분포를 따른다.\n",
    "- 집단 측정치의 분산은 같다(등분산 가정).\n",
    "\n",
    "#### 3. 가설\n",
    "- 귀무가설($H_0$) : k개의 집단 간 모평균에는 차이가 없다. 즉, 같다고 할 수 있다.\n",
    "- 대립가설($H_1$) : k개의 집단 간 모평균이 모두 같다고 할 수 없다.\n",
    "\n",
    "#### 4. 사후검정\n",
    "- 사후검정이란 분산분석의 결과 귀무가설이 기각되어 적어도 한 집단에서 평균의 차이가 있음이 통계적으로 증명되었을 경우(p-value < 0.05), 어떤 집단들에 대해서 평균의 차이가 존재하는지를 알아보기 위해 실시하는 분석이다.\n",
    "- 사후분석의 종류로는 던칸의 MRT, vltudml LSD, 튜키의 HSD 방법 등이 있다.\n",
    "\n",
    "#### 5. 단계\n",
    "- 가설 수립\n",
    "- 정규성 검정\n",
    "- 등분산 검정\n",
    "- f-oneway 검정\n",
    "- 사후검정\n",
    "\n",
    "#### 6. 파이썬을 활용한 분산분석\n",
    "- iris 데이터를 이용하여 종(Species)별로 꽃받침의 폭(Sepal, Width)의 평균이 같은지 혹은 차이가 있는지를 확인하기 위해 일원배치 분산분석을 수행해보자."
   ]
  },
  {
   "cell_type": "code",
   "execution_count": 44,
   "metadata": {},
   "outputs": [
    {
     "data": {
      "text/html": [
       "<div>\n",
       "<style scoped>\n",
       "    .dataframe tbody tr th:only-of-type {\n",
       "        vertical-align: middle;\n",
       "    }\n",
       "\n",
       "    .dataframe tbody tr th {\n",
       "        vertical-align: top;\n",
       "    }\n",
       "\n",
       "    .dataframe thead th {\n",
       "        text-align: right;\n",
       "    }\n",
       "</style>\n",
       "<table border=\"1\" class=\"dataframe\">\n",
       "  <thead>\n",
       "    <tr style=\"text-align: right;\">\n",
       "      <th></th>\n",
       "      <th>sepal length (cm)</th>\n",
       "      <th>sepal width (cm)</th>\n",
       "      <th>petal length (cm)</th>\n",
       "      <th>petal width (cm)</th>\n",
       "      <th>target</th>\n",
       "    </tr>\n",
       "  </thead>\n",
       "  <tbody>\n",
       "    <tr>\n",
       "      <th>0</th>\n",
       "      <td>5.1</td>\n",
       "      <td>3.5</td>\n",
       "      <td>1.4</td>\n",
       "      <td>0.2</td>\n",
       "      <td>setosa</td>\n",
       "    </tr>\n",
       "    <tr>\n",
       "      <th>1</th>\n",
       "      <td>4.9</td>\n",
       "      <td>3.0</td>\n",
       "      <td>1.4</td>\n",
       "      <td>0.2</td>\n",
       "      <td>setosa</td>\n",
       "    </tr>\n",
       "    <tr>\n",
       "      <th>2</th>\n",
       "      <td>4.7</td>\n",
       "      <td>3.2</td>\n",
       "      <td>1.3</td>\n",
       "      <td>0.2</td>\n",
       "      <td>setosa</td>\n",
       "    </tr>\n",
       "    <tr>\n",
       "      <th>3</th>\n",
       "      <td>4.6</td>\n",
       "      <td>3.1</td>\n",
       "      <td>1.5</td>\n",
       "      <td>0.2</td>\n",
       "      <td>setosa</td>\n",
       "    </tr>\n",
       "    <tr>\n",
       "      <th>4</th>\n",
       "      <td>5.0</td>\n",
       "      <td>3.6</td>\n",
       "      <td>1.4</td>\n",
       "      <td>0.2</td>\n",
       "      <td>setosa</td>\n",
       "    </tr>\n",
       "    <tr>\n",
       "      <th>...</th>\n",
       "      <td>...</td>\n",
       "      <td>...</td>\n",
       "      <td>...</td>\n",
       "      <td>...</td>\n",
       "      <td>...</td>\n",
       "    </tr>\n",
       "    <tr>\n",
       "      <th>145</th>\n",
       "      <td>6.7</td>\n",
       "      <td>3.0</td>\n",
       "      <td>5.2</td>\n",
       "      <td>2.3</td>\n",
       "      <td>virginica</td>\n",
       "    </tr>\n",
       "    <tr>\n",
       "      <th>146</th>\n",
       "      <td>6.3</td>\n",
       "      <td>2.5</td>\n",
       "      <td>5.0</td>\n",
       "      <td>1.9</td>\n",
       "      <td>virginica</td>\n",
       "    </tr>\n",
       "    <tr>\n",
       "      <th>147</th>\n",
       "      <td>6.5</td>\n",
       "      <td>3.0</td>\n",
       "      <td>5.2</td>\n",
       "      <td>2.0</td>\n",
       "      <td>virginica</td>\n",
       "    </tr>\n",
       "    <tr>\n",
       "      <th>148</th>\n",
       "      <td>6.2</td>\n",
       "      <td>3.4</td>\n",
       "      <td>5.4</td>\n",
       "      <td>2.3</td>\n",
       "      <td>virginica</td>\n",
       "    </tr>\n",
       "    <tr>\n",
       "      <th>149</th>\n",
       "      <td>5.9</td>\n",
       "      <td>3.0</td>\n",
       "      <td>5.1</td>\n",
       "      <td>1.8</td>\n",
       "      <td>virginica</td>\n",
       "    </tr>\n",
       "  </tbody>\n",
       "</table>\n",
       "<p>150 rows × 5 columns</p>\n",
       "</div>"
      ],
      "text/plain": [
       "     sepal length (cm)  sepal width (cm)  petal length (cm)  petal width (cm)  \\\n",
       "0                  5.1               3.5                1.4               0.2   \n",
       "1                  4.9               3.0                1.4               0.2   \n",
       "2                  4.7               3.2                1.3               0.2   \n",
       "3                  4.6               3.1                1.5               0.2   \n",
       "4                  5.0               3.6                1.4               0.2   \n",
       "..                 ...               ...                ...               ...   \n",
       "145                6.7               3.0                5.2               2.3   \n",
       "146                6.3               2.5                5.0               1.9   \n",
       "147                6.5               3.0                5.2               2.0   \n",
       "148                6.2               3.4                5.4               2.3   \n",
       "149                5.9               3.0                5.1               1.8   \n",
       "\n",
       "        target  \n",
       "0       setosa  \n",
       "1       setosa  \n",
       "2       setosa  \n",
       "3       setosa  \n",
       "4       setosa  \n",
       "..         ...  \n",
       "145  virginica  \n",
       "146  virginica  \n",
       "147  virginica  \n",
       "148  virginica  \n",
       "149  virginica  \n",
       "\n",
       "[150 rows x 5 columns]"
      ]
     },
     "execution_count": 44,
     "metadata": {},
     "output_type": "execute_result"
    }
   ],
   "source": [
    "import scipy.stats as stats\n",
    "from sklearn.datasets import load_iris\n",
    "\n",
    "iris_data = pd.DataFrame(\n",
    "  load_iris().data,\n",
    "  columns=load_iris().feature_names\n",
    ")\n",
    "iris_data['target'] = load_iris().target\n",
    "iris_data['target'] = iris_data['target'].map(\n",
    "  {\n",
    "    0:'setosa',\n",
    "    1:'versicolor',\n",
    "    2:'virginica'\n",
    "  }\n",
    ")\n",
    "\n",
    "iris_data"
   ]
  },
  {
   "cell_type": "code",
   "execution_count": 45,
   "metadata": {},
   "outputs": [
    {
     "data": {
      "text/plain": [
       "setosa        50\n",
       "versicolor    50\n",
       "virginica     50\n",
       "Name: target, dtype: int64"
      ]
     },
     "execution_count": 45,
     "metadata": {},
     "output_type": "execute_result"
    }
   ],
   "source": [
    "iris_data['target'].value_counts()\n"
   ]
  },
  {
   "cell_type": "markdown",
   "metadata": {},
   "source": [
    "- target 데이터는 각 50개씩 고르게 분포되어 있음을 확인하였다.\n",
    "- 분산분석을 하기 위해 target별로 변수에 할당하여 분산분석을 진행해보자."
   ]
  },
  {
   "cell_type": "code",
   "execution_count": 46,
   "metadata": {},
   "outputs": [],
   "source": [
    "setosa = iris_data[iris_data['target'] == 'setosa']['sepal width (cm)']\n",
    "versicolor = iris_data[iris_data['target'] == 'versicolor']['sepal width (cm)']\n",
    "virginica = iris_data[iris_data['target'] == 'virginica']['sepal width (cm)']"
   ]
  },
  {
   "cell_type": "code",
   "execution_count": 47,
   "metadata": {},
   "outputs": [
    {
     "data": {
      "image/png": "[encoded data removed]",
      "text/plain": [
       "<Figure size 432x288 with 1 Axes>"
      ]
     },
     "metadata": {
      "needs_background": "light"
     },
     "output_type": "display_data"
    }
   ],
   "source": [
    "import seaborn as sns\n",
    "import matplotlib.pyplot as plt\n",
    "\n",
    "sns.scatterplot(\n",
    "  x='target',\n",
    "  y='sepal width (cm)',\n",
    "  hue='target',\n",
    "  style='target',\n",
    "  s=100,\n",
    "  data=iris_data\n",
    ")\n",
    "plt.show()"
   ]
  },
  {
   "cell_type": "markdown",
   "metadata": {},
   "source": [
    "- 시각화하여 보았을 때, 3종류의 `sepal width (cm)`는 평균에 차이가 있어 보인다.\n",
    "- 통계적으로 차이가 있는지 검정해보자.\n",
    "- 우선 각 변수가 정규성을 띄는지 확인해본다."
   ]
  },
  {
   "cell_type": "code",
   "execution_count": 48,
   "metadata": {},
   "outputs": [
    {
     "name": "stdout",
     "output_type": "stream",
     "text": [
      "ShapiroResult(statistic=0.971718966960907, pvalue=0.2715126574039459)\n",
      "ShapiroResult(statistic=0.9741329550743103, pvalue=0.3379843533039093)\n",
      "ShapiroResult(statistic=0.9673907160758972, pvalue=0.18089871108531952)\n"
     ]
    }
   ],
   "source": [
    "print(stats.shapiro(setosa))\n",
    "print(stats.shapiro(versicolor))\n",
    "print(stats.shapiro(virginica))"
   ]
  },
  {
   "cell_type": "markdown",
   "metadata": {},
   "source": [
    "- shapiro test 결과 3개의 표본 모두 p-value가 0.05보다 커서 정규성을 만족한다.\n",
    "- 만약 하나의 표본이라도 정규성을 만족하지 못했을 경우에는 아래와 같이 `kruskal` 검정을 진행하면 된다."
   ]
  },
  {
   "cell_type": "code",
   "execution_count": 54,
   "metadata": {},
   "outputs": [
    {
     "data": {
      "text/plain": [
       "KruskalResult(statistic=63.571146104163795, pvalue=1.5692820940316782e-14)"
      ]
     },
     "execution_count": 54,
     "metadata": {},
     "output_type": "execute_result"
    }
   ],
   "source": [
    "stats.kruskal(\n",
    "  setosa,\n",
    "  versicolor,\n",
    "  virginica\n",
    ")"
   ]
  },
  {
   "cell_type": "markdown",
   "metadata": {},
   "source": [
    "- 3개의 표본 모두 정규성을 만족하므로 등분산 검정을 시행한다."
   ]
  },
  {
   "cell_type": "code",
   "execution_count": 49,
   "metadata": {},
   "outputs": [
    {
     "data": {
      "text/plain": [
       "LeveneResult(statistic=0.5902115655853319, pvalue=0.5555178984739075)"
      ]
     },
     "execution_count": 49,
     "metadata": {},
     "output_type": "execute_result"
    }
   ],
   "source": [
    "stats.levene(\n",
    "  setosa,\n",
    "  versicolor,\n",
    "  virginica\n",
    ")"
   ]
  },
  {
   "cell_type": "markdown",
   "metadata": {},
   "source": [
    "- p-value가 유의수준(0.05)보다 크기 때문에 귀무가설을 채택한다.\n",
    "- 세 집단 간 분산이 같다고 할 수 있으므로 ANOVA 검정을 시행한다."
   ]
  },
  {
   "cell_type": "code",
   "execution_count": 50,
   "metadata": {},
   "outputs": [
    {
     "data": {
      "text/plain": [
       "F_onewayResult(statistic=49.160040089612075, pvalue=4.492017133309115e-17)"
      ]
     },
     "execution_count": 50,
     "metadata": {},
     "output_type": "execute_result"
    }
   ],
   "source": [
    "stats.f_oneway(\n",
    "  setosa,\n",
    "  versicolor,\n",
    "  virginica\n",
    ")"
   ]
  },
  {
   "cell_type": "markdown",
   "metadata": {},
   "source": [
    "- 검정결과 p-value는 0.05보다 작으므로 귀무가설은 기각된다.\n",
    "- 즉, 세 가지 종의 꽃받침 폭의 평균은 차이가 있다고 할 수 있다.\n",
    "- 만약 등분산성을 만족하지 못했을 경우 `welch_anova` 분석을 시행하면 된다."
   ]
  },
  {
   "cell_type": "code",
   "execution_count": 55,
   "metadata": {},
   "outputs": [
    {
     "data": {
      "text/html": [
       "<div>\n",
       "<style scoped>\n",
       "    .dataframe tbody tr th:only-of-type {\n",
       "        vertical-align: middle;\n",
       "    }\n",
       "\n",
       "    .dataframe tbody tr th {\n",
       "        vertical-align: top;\n",
       "    }\n",
       "\n",
       "    .dataframe thead th {\n",
       "        text-align: right;\n",
       "    }\n",
       "</style>\n",
       "<table border=\"1\" class=\"dataframe\">\n",
       "  <thead>\n",
       "    <tr style=\"text-align: right;\">\n",
       "      <th></th>\n",
       "      <th>Source</th>\n",
       "      <th>ddof1</th>\n",
       "      <th>ddof2</th>\n",
       "      <th>F</th>\n",
       "      <th>p-unc</th>\n",
       "      <th>np2</th>\n",
       "    </tr>\n",
       "  </thead>\n",
       "  <tbody>\n",
       "    <tr>\n",
       "      <th>0</th>\n",
       "      <td>target</td>\n",
       "      <td>2</td>\n",
       "      <td>97.401587</td>\n",
       "      <td>45.012035</td>\n",
       "      <td>1.432735e-14</td>\n",
       "      <td>0.400783</td>\n",
       "    </tr>\n",
       "  </tbody>\n",
       "</table>\n",
       "</div>"
      ],
      "text/plain": [
       "   Source  ddof1      ddof2          F         p-unc       np2\n",
       "0  target      2  97.401587  45.012035  1.432735e-14  0.400783"
      ]
     },
     "execution_count": 55,
     "metadata": {},
     "output_type": "execute_result"
    }
   ],
   "source": [
    "import pingouin as pg\n",
    "\n",
    "pg.welch_anova(\n",
    "  data=iris_data,\n",
    "  dv='sepal width (cm)',\n",
    "  between='target'\n",
    ")"
   ]
  },
  {
   "cell_type": "markdown",
   "metadata": {},
   "source": [
    "- 세 가지 종들 중 특히 어떠한 종들 간에 꽃받침의 폭에 차이가 있는지 파악하기 위해 사후검정을 수행해보자."
   ]
  },
  {
   "cell_type": "code",
   "execution_count": 52,
   "metadata": {},
   "outputs": [
    {
     "data": {
      "image/png": "[encoded data removed]",
      "text/plain": [
       "<Figure size 720x432 with 1 Axes>"
      ]
     },
     "metadata": {
      "needs_background": "light"
     },
     "output_type": "display_data"
    }
   ],
   "source": [
    "from statsmodels.stats.multicomp import pairwise_tukeyhsd, MultiComparison\n",
    "\n",
    "mc = MultiComparison(\n",
    "  data=iris_data['sepal width (cm)'],\n",
    "  groups=iris_data['target']\n",
    ")\n",
    "tukeyhsd = mc.tukeyhsd(alpha=0.05)\n",
    "fig = tukeyhsd.plot_simultaneous()\n",
    "plt.show()"
   ]
  },
  {
   "cell_type": "code",
   "execution_count": 53,
   "metadata": {},
   "outputs": [
    {
     "data": {
      "text/html": [
       "<table class=\"simpletable\">\n",
       "<caption>Multiple Comparison of Means - Tukey HSD, FWER=0.05</caption>\n",
       "<tr>\n",
       "    <th>group1</th>     <th>group2</th>   <th>meandiff</th>  <th>p-adj</th>  <th>lower</th>   <th>upper</th>  <th>reject</th>\n",
       "</tr>\n",
       "<tr>\n",
       "    <td>setosa</td>   <td>versicolor</td>  <td>-0.658</td>    <td>0.0</td>  <td>-0.8189</td> <td>-0.4971</td>  <td>True</td> \n",
       "</tr>\n",
       "<tr>\n",
       "    <td>setosa</td>    <td>virginica</td>  <td>-0.454</td>    <td>0.0</td>  <td>-0.6149</td> <td>-0.2931</td>  <td>True</td> \n",
       "</tr>\n",
       "<tr>\n",
       "  <td>versicolor</td>  <td>virginica</td>   <td>0.204</td>  <td>0.0088</td> <td>0.0431</td>  <td>0.3649</td>   <td>True</td> \n",
       "</tr>\n",
       "</table>"
      ],
      "text/plain": [
       "<class 'statsmodels.iolib.table.SimpleTable'>"
      ]
     },
     "execution_count": 53,
     "metadata": {},
     "output_type": "execute_result"
    }
   ],
   "source": [
    "tukeyhsd.summary()"
   ]
  },
  {
   "cell_type": "markdown",
   "metadata": {},
   "source": [
    "- 사후분석에서는 귀무가설을 '집단들 사이의 평균은 같다'로 두고 대립가설을 '집단들 사이의 평균은 같지 않다'로 둔다.\n",
    "- 모든 집단 수준에 대하여 두 집단씩 짝을 지어 각각 다중비교를 수행한다.\n",
    "- 모두 수정된 p-value 값(`p-adj`)이 0.05보다 작으므로, 각각의 비교에 대한 귀무가설을 모두 기각한다.\n",
    "- 즉, 모든 종들에 대해서 꽃받침 폭의 평균값은 통계적으로 유의한 차이가 있다는 것을 알 수 있다.\n",
    "- 또한 diff는 차이(오른쪽 집단 - 왼쪽 집단)값을 나타내는데 setosa-versicolor에 대한 diff 값은 음수이므로, versicolor 보다 setosa일 때 꽃받침의 폭이 통계적으로 유의하게 큰 값을 가진다고 해석할 수 있다."
   ]
  },
  {
   "cell_type": "markdown",
   "metadata": {},
   "source": [
    "### 4. 이원배치 분산분석(Two-way ANOVA)\n",
    "\n",
    "#### 1. 개념\n",
    "- p.325"
   ]
  },
  {
   "cell_type": "code",
   "execution_count": null,
   "metadata": {},
   "outputs": [],
   "source": []
  }
 ],
 "metadata": {
  "kernelspec": {
   "display_name": "Python 3.9.7 64-bit",
   "language": "python",
   "name": "python3"
  },
  "language_info": {
   "codemirror_mode": {
    "name": "ipython",
    "version": 3
   },
   "file_extension": ".py",
   "mimetype": "text/x-python",
   "name": "python",
   "nbconvert_exporter": "python",
   "pygments_lexer": "ipython3",
   "version": "3.9.7"
  },
  "orig_nbformat": 4,
  "vscode": {
   "interpreter": {
    "hash": "c8375c55c81336353887004a8a0ed729a5528664cfa1d07c62a42c846a25ebdb"
   }
  }
 },
 "nbformat": 4,
 "nbformat_minor": 2
}
