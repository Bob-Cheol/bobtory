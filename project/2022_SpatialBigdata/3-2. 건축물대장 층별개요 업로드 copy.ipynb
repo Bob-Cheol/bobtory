{
 "cells": [
  {
   "cell_type": "markdown",
   "metadata": {},
   "source": [
    "### DB 연결"
   ]
  },
  {
   "cell_type": "code",
   "execution_count": 1,
   "metadata": {},
   "outputs": [],
   "source": [
    "import psycopg2\n",
    "\n",
    "conn = psycopg2.connect(\n",
    "  'host=localhost port=5432 dbname=postgres user=postgres password=postgres',\n",
    "  options='-c search_path=sbd'\n",
    ")\n",
    "conn.set_session(autocommit=True)\n",
    "cur = conn.cursor()"
   ]
  },
  {
   "cell_type": "markdown",
   "metadata": {},
   "source": [
    "### 테이블 생성"
   ]
  },
  {
   "cell_type": "code",
   "execution_count": 2,
   "metadata": {},
   "outputs": [],
   "source": [
    "cur.execute(\n",
    "  f'''\n",
    "  select count(*)\n",
    "  from information_schema.tables\n",
    "  where\n",
    "    table_schema = 'sbd' and\n",
    "    table_name ~ 'building_floor'\n",
    "  '''\n",
    ")\n",
    "if not cur.fetchone()[0]:\n",
    "  cur.execute(\n",
    "    open('sql/source-create_table_building_floor.sql', 'r').read()\n",
    "  )"
   ]
  },
  {
   "cell_type": "markdown",
   "metadata": {},
   "source": [
    "후속 작업에 필요한 컬럼 목록, 테이블 초기화"
   ]
  },
  {
   "cell_type": "code",
   "execution_count": 3,
   "metadata": {},
   "outputs": [],
   "source": [
    "cur.execute(\n",
    "  f'''\n",
    "  select column_name\n",
    "  from information_schema.columns\n",
    "  where \n",
    "    table_schema = 'sbd' and\n",
    "    table_name = 'building_floor' and\n",
    "    column_default is null\n",
    "  '''\n",
    ")\n",
    "column_list = [\n",
    "  col[0]\n",
    "  for col\n",
    "  in cur.fetchall()\n",
    "]"
   ]
  },
  {
   "cell_type": "code",
   "execution_count": 4,
   "metadata": {},
   "outputs": [],
   "source": [
    "cur.execute(\n",
    "  'delete from building_floor'\n",
    ")"
   ]
  },
  {
   "cell_type": "markdown",
   "metadata": {},
   "source": [
    "### 업로드 함수"
   ]
  },
  {
   "cell_type": "code",
   "execution_count": 5,
   "metadata": {},
   "outputs": [],
   "source": [
    "def uploadToDB(data_table):\n",
    "  print(datetime.now(),'start...',end='')\n",
    "  data_table.columns = [\n",
    "    '관리_건축물대장_PK', '대지_위치', '도로명_대지_위치', '건물_명', '시군구_코드', '법정동_코드', '대지_구분_코드', '번', '지', '특수지_명', '블록', '로트', '새주소_도로_코드', '새주소_법정동_코드', '새주소_지상지하_코드', '새주소_본_번', '새주소_부_번', '동_명', '층_구분_코드', '층_구분_코드_명', '층_번호', '층_번호_명', '구조_코드', '구조_코드_명', '기타_구조', '주_용도_코드', '주_용도_코드_명', '기타_용도', '면적(㎡)', '주_부속_구분_코드', '주_부속_구분_코드_명', '면적_제외_여부', '생성_일자'\n",
    "  ]\n",
    "  data_table['시도_코드'] = [code[0:2] for code in data_table['시군구_코드']]\n",
    "  data_table = data_table[data_table['시도_코드'] == '11'] # '전국' 중 '서울'만 추출\n",
    "  data_table['pnu'] = data_table['시군구_코드'] + data_table['법정동_코드'] + [ # 토지 ID인 PNU 생성\n",
    "    '1' if code == '0' else '2' if code == '1' else '0'\n",
    "    for code\n",
    "    in data_table['대지_구분_코드']\n",
    "  ] + data_table['번'] + data_table['지']\n",
    "  data_table = data_table[[\n",
    "    'pnu', '관리_건축물대장_PK', '대지_위치', '도로명_대지_위치', '건물_명', '동_명', '층_구분_코드', '층_구분_코드_명', '층_번호', '층_번호_명', '구조_코드', '구조_코드_명', '기타_구조', '주_용도_코드', '주_용도_코드_명', '기타_용도', '면적(㎡)', '주_부속_구분_코드_명', '면적_제외_여부', '생성_일자'\n",
    "  ]]\n",
    "  data_table.columns = column_list\n",
    "  data_table.floor_no_name = data_table.floor_no_name.replace('[\\\\\\]', '', regex=True) # 전처리 : 특수문자 제거\n",
    "  data_table.structure_detail = data_table.structure_detail.replace('[\\\\\\]', '', regex=True) # 전처리 : 특수문자 제거\n",
    "  data_table.use_detail = data_table.use_detail.replace('[\\\\\\]', '', regex=True) # 전처리 : 특수문자 제거\n",
    "  data_table.is_excepted_area = [ # 0,1 -> False, True\n",
    "    False if (pd.isna(tf) or tf == '0') else True\n",
    "    for tf\n",
    "    in data_table['is_excepted_area']\n",
    "  ]\n",
    "  data_table.to_csv( # .txt 파일로 로컬 저장\n",
    "    'temp_building_floor.txt',\n",
    "    sep='|',\n",
    "    index=False,\n",
    "    header=False,\n",
    "    encoding='CP949'\n",
    "  )\n",
    "  temp_file = open('temp_building_floor.txt', 'r')\n",
    "  print('upload...',end='')\n",
    "  cur.copy_from( # file bulk insert\n",
    "    temp_file,\n",
    "    'building_floor',\n",
    "    sep='|',\n",
    "    columns=column_list,\n",
    "    null=''\n",
    "  )\n",
    "  temp_file.close()\n",
    "  os.remove('temp_building_floor.txt')\n",
    "  print('end',datetime.now())"
   ]
  },
  {
   "cell_type": "markdown",
   "metadata": {},
   "source": [
    "### 소스 데이터 업로드"
   ]
  },
  {
   "cell_type": "code",
   "execution_count": 6,
   "metadata": {},
   "outputs": [],
   "source": [
    "from zipfile import ZipFile\n",
    "import pandas as pd\n",
    "import os\n",
    "from datetime import datetime\n",
    "\n",
    "zf = ZipFile('D:/data/building_register/building_floor/국토교통부_건축물대장_층별개요+(2022년+07월).zip')\n",
    "source_chunks = pd.read_csv(\n",
    "  zf.open('mart_djy_04.txt'),\n",
    "  sep='|',\n",
    "  encoding='CP949',\n",
    "  header=None,\n",
    "  dtype='string',\n",
    "  chunksize=500_000\n",
    ")"
   ]
  },
  {
   "cell_type": "code",
   "execution_count": 7,
   "metadata": {},
   "outputs": [
    {
     "name": "stdout",
     "output_type": "stream",
     "text": [
      "2022-09-23 17:32:32.576618 start..."
     ]
    },
    {
     "name": "stderr",
     "output_type": "stream",
     "text": [
      "C:\\Users\\Bob\\AppData\\Local\\Temp/ipykernel_14524/2940040397.py:8: SettingWithCopyWarning: \n",
      "A value is trying to be set on a copy of a slice from a DataFrame.\n",
      "Try using .loc[row_indexer,col_indexer] = value instead\n",
      "\n",
      "See the caveats in the documentation: https://pandas.pydata.org/pandas-docs/stable/user_guide/indexing.html#returning-a-view-versus-a-copy\n",
      "  data_table['pnu'] = data_table['시군구_코드'] + data_table['법정동_코드'] + [ # 토지 ID인 PNU 생성\n"
     ]
    },
    {
     "name": "stdout",
     "output_type": "stream",
     "text": [
      "upload...end 2022-09-23 17:32:35.737760\n",
      "2022-09-23 17:32:40.306091 start...upload...end 2022-09-23 17:32:43.407229\n",
      "2022-09-23 17:32:47.894397 start...upload...end 2022-09-23 17:32:51.026488\n",
      "2022-09-23 17:32:55.658996 start...upload...end 2022-09-23 17:32:58.862616\n",
      "2022-09-23 17:33:03.521509 start...upload...end 2022-09-23 17:33:06.749325\n",
      "2022-09-23 17:33:11.252995 start...upload...end 2022-09-23 17:33:14.467592\n",
      "2022-09-23 17:33:18.912020 start...upload...end 2022-09-23 17:33:22.117162\n",
      "2022-09-23 17:33:26.598841 start...upload...end 2022-09-23 17:33:29.821926\n",
      "2022-09-23 17:33:34.556433 start...upload...end 2022-09-23 17:33:37.876935\n",
      "2022-09-23 17:33:42.729026 start...upload...end 2022-09-23 17:33:46.228090\n",
      "2022-09-23 17:33:50.894020 start...upload...end 2022-09-23 17:33:54.430410\n",
      "2022-09-23 17:33:58.913327 start...upload...end 2022-09-23 17:34:02.653941\n",
      "2022-09-23 17:34:07.153225 start...upload...end 2022-09-23 17:34:10.592416\n",
      "2022-09-23 17:34:15.213725 start...upload...end 2022-09-23 17:34:18.758904\n",
      "2022-09-23 17:34:23.337190 start...upload...end 2022-09-23 17:34:26.966011\n",
      "2022-09-23 17:34:31.679683 start...upload...end 2022-09-23 17:34:35.114527\n",
      "2022-09-23 17:34:39.872806 start...upload...end 2022-09-23 17:34:43.743052\n",
      "2022-09-23 17:34:48.400903 start...upload...end 2022-09-23 17:34:51.828121\n",
      "2022-09-23 17:34:56.508172 start...upload...end 2022-09-23 17:34:59.685399\n",
      "2022-09-23 17:35:04.369025 start...upload...end 2022-09-23 17:35:08.515883\n",
      "2022-09-23 17:35:13.158788 start...upload...end 2022-09-23 17:35:16.426753\n",
      "2022-09-23 17:35:20.990247 start...upload...end 2022-09-23 17:35:24.281027\n",
      "2022-09-23 17:35:28.852118 start...upload...end 2022-09-23 17:35:32.171918\n",
      "2022-09-23 17:35:36.727571 start...upload...end 2022-09-23 17:35:40.137396\n",
      "2022-09-23 17:35:44.840064 start...upload...end 2022-09-23 17:35:48.013863\n",
      "2022-09-23 17:35:52.674145 start...upload...end 2022-09-23 17:35:56.038350\n",
      "2022-09-23 17:36:00.629017 start...upload...end 2022-09-23 17:36:04.015422\n",
      "2022-09-23 17:36:08.568140 start...upload...end 2022-09-23 17:36:11.783255\n",
      "2022-09-23 17:36:16.383980 start...upload...end 2022-09-23 17:36:19.943774\n",
      "2022-09-23 17:36:24.567079 start...upload...end 2022-09-23 17:36:29.019039\n",
      "2022-09-23 17:36:33.569987 start...upload...end 2022-09-23 17:36:37.187811\n",
      "2022-09-23 17:36:42.020109 start...upload...end 2022-09-23 17:36:45.499321\n",
      "2022-09-23 17:36:50.384963 start...upload...end 2022-09-23 17:36:53.980822\n",
      "2022-09-23 17:36:58.629597 start...upload...end 2022-09-23 17:37:02.146042\n",
      "2022-09-23 17:37:06.849991 start...upload...end 2022-09-23 17:37:10.624811\n",
      "2022-09-23 17:37:15.549108 start...upload...end 2022-09-23 17:37:19.111338\n",
      "2022-09-23 17:37:23.734993 start...upload...end 2022-09-23 17:37:27.164231\n",
      "2022-09-23 17:37:31.737076 start...upload...end 2022-09-23 17:37:35.178287\n",
      "2022-09-23 17:37:39.813954 start...upload...end 2022-09-23 17:37:43.231159\n",
      "2022-09-23 17:37:47.836376 start...upload...end 2022-09-23 17:37:52.487314\n",
      "2022-09-23 17:37:57.117999 start...upload...end 2022-09-23 17:38:00.404801\n",
      "2022-09-23 17:38:01.051266 start...upload...end 2022-09-23 17:38:01.504248\n"
     ]
    }
   ],
   "source": [
    "for source_dt in source_chunks:\n",
    "  uploadToDB(source_dt)"
   ]
  }
 ],
 "metadata": {
  "kernelspec": {
   "display_name": "Python 3.9.7 64-bit",
   "language": "python",
   "name": "python3"
  },
  "language_info": {
   "codemirror_mode": {
    "name": "ipython",
    "version": 3
   },
   "file_extension": ".py",
   "mimetype": "text/x-python",
   "name": "python",
   "nbconvert_exporter": "python",
   "pygments_lexer": "ipython3",
   "version": "3.9.7"
  },
  "orig_nbformat": 4,
  "vscode": {
   "interpreter": {
    "hash": "c8375c55c81336353887004a8a0ed729a5528664cfa1d07c62a42c846a25ebdb"
   }
  }
 },
 "nbformat": 4,
 "nbformat_minor": 2
}
