{
 "cells": [
  {
   "cell_type": "markdown",
   "metadata": {},
   "source": [
    "### DB 연결"
   ]
  },
  {
   "cell_type": "code",
   "execution_count": 1,
   "metadata": {},
   "outputs": [],
   "source": [
    "import psycopg2\n",
    "\n",
    "conn = psycopg2.connect(\n",
    "  'host=localhost port=5432 dbname=postgres user=postgres password=postgres',\n",
    "  options='-c search_path=sbd'\n",
    ")\n",
    "conn.set_session(autocommit=True)\n",
    "cur = conn.cursor()"
   ]
  },
  {
   "cell_type": "markdown",
   "metadata": {},
   "source": [
    "### 테이블 생성"
   ]
  },
  {
   "cell_type": "code",
   "execution_count": 2,
   "metadata": {},
   "outputs": [],
   "source": [
    "cur.execute(\n",
    "  f'''\n",
    "  select count(*)\n",
    "  from information_schema.tables\n",
    "  where\n",
    "    table_schema = 'sbd' and\n",
    "    table_name ~ 'building_dong'\n",
    "  '''\n",
    ")\n",
    "if not cur.fetchone()[0]:\n",
    "  cur.execute(\n",
    "    open('sql/sbd-create_table_building_dong.sql', 'r').read()\n",
    "  )"
   ]
  },
  {
   "cell_type": "code",
   "execution_count": 3,
   "metadata": {},
   "outputs": [],
   "source": [
    "cur.execute(\n",
    "  f'''\n",
    "  select column_name\n",
    "  from information_schema.columns\n",
    "  where \n",
    "    table_schema = 'sbd' and\n",
    "    table_name = 'building_dong' and\n",
    "    column_default is null\n",
    "  '''\n",
    ")\n",
    "column_list = [\n",
    "  col[0]\n",
    "  for col\n",
    "  in cur.fetchall()\n",
    "]"
   ]
  },
  {
   "cell_type": "code",
   "execution_count": 4,
   "metadata": {},
   "outputs": [],
   "source": [
    "cur.execute(\n",
    "  'delete from building_dong'\n",
    ")"
   ]
  },
  {
   "cell_type": "markdown",
   "metadata": {},
   "source": [
    "### 업로드 함수"
   ]
  },
  {
   "cell_type": "code",
   "execution_count": 5,
   "metadata": {},
   "outputs": [],
   "source": [
    "def uploadToDB(data_table):\n",
    "  print(datetime.now(),'start...',end='')\n",
    "  data_table.columns = [\n",
    "    '관리_건축물대장_PK', '대장_구분_코드', '대장_구분_코드_명', '대장_종류_코드', '대장_종류_코드_명', '대지_위치', '도로명_대지_위치', '건물_명', '시군구_코드', '법정동_코드', '대지_구분_코드', '번', '지', '특수지_명', '블록', '로트', '외필지_수', '새주소_도로_코드', '새주소_법정동_코드', '새주소_지상지하_코드', '새주소_본_번', '새주소_부_번', '동_명', '주_부속_구분_코드', '주_부속_구분_코드_명', '대지_면적(㎡)', '건축_면적(㎡)', '건폐_율(%)', '연면적(㎡)', '용적_률_산정_연면적(㎡)', '용적_률(%)', '구조_코드', '구조_코드_명', '기타_구조', '주_용도_코드', '주_용도_코드_명', '기타_용도', '지붕_코드', '지붕_코드_명', '기타_지붕', '세대_수(세대)', '가구_수(가구)', '높이(m)', '지상_층_수', '지하_층_수', '승용_승강기_수', '비상용_승강기_수', '부속_건축물_수', '부속_건축물_면적(㎡)', '총_동_연면적(㎡)', '옥내_기계식_대수(대)', '옥내_기계식_면적(㎡)', '옥외_기계식_대수(대)', '옥외_기계식_면적(㎡)', '옥내_자주식_대수(대)', '옥내_자주식_면적(㎡)', '옥외_자주식_대수(대)', '옥외_자주식_면적(㎡)', '허가_일', '착공_일', '사용승인_일', '허가번호_년', '허가번호_기관_코드', '허가번호_기관_코드_명', '허가번호_구분_코드', '허가번호_구분_코드_명', '호_수(호)', '에너지효율_등급', '에너지절감_율', '에너지_EPI점수', '친환경_건축물_등급', '친환경_건축물_인증점수', '지능형_건축물_등급', '지능형_건축물_인증점수', '생성_일자', '내진_설계_적용_여부', '내진_능력'\n",
    "  ]\n",
    "  data_table['시도_코드'] = [code[0:2] for code in data_table['시군구_코드']]\n",
    "  data_table = data_table[data_table['시도_코드'] == '11'] # '전국' 중 '서울'만 추출\n",
    "  data_table['pnu'] = data_table['시군구_코드'] + data_table['법정동_코드'] + [ # 토지 ID인 PNU 생성\n",
    "    '1' if code == '0' else '2' if code == '1' else '0'\n",
    "    for code\n",
    "    in data_table['대지_구분_코드']\n",
    "  ] + data_table['번'] + data_table['지']\n",
    "  data_table = data_table[[\n",
    "    'pnu', '관리_건축물대장_PK', '대장_구분_코드_명', '대지_위치', '도로명_대지_위치', '건물_명', '동_명', '주_부속_구분_코드_명', '대지_면적(㎡)', '건축_면적(㎡)', '건폐_율(%)', '연면적(㎡)', '용적_률_산정_연면적(㎡)', '용적_률(%)', '구조_코드', '구조_코드_명', '기타_구조', '주_용도_코드', '주_용도_코드_명', '기타_용도', '세대_수(세대)', '가구_수(가구)', '호_수(호)', '높이(m)', '지상_층_수', '지하_층_수', '허가_일', '착공_일', '사용승인_일', '생성_일자'\n",
    "  ]]\n",
    "  data_table.columns = column_list\n",
    "  data_table.structure_detail = data_table.structure_detail.replace('[\\\\\\]', '', regex=True) # 전처리 : 특수문자 제거\n",
    "  data_table.use_detail = data_table.use_detail.replace('[\\\\\\]', '', regex=True) # 전처리 : 특수문자 제거\n",
    "  data_table.to_csv( # .txt 파일로 로컬 저장\n",
    "    'temp_building_dong.txt',\n",
    "    sep='|',\n",
    "    index=False,\n",
    "    header=False,\n",
    "    encoding='CP949'\n",
    "  )\n",
    "  temp_file = open('temp_building_dong.txt', 'r')\n",
    "  print('upload...',end='')\n",
    "  cur.copy_from( # file bulk insert\n",
    "    temp_file,\n",
    "    'building_dong',\n",
    "    sep='|',\n",
    "    columns=column_list,\n",
    "    null=''\n",
    "  )\n",
    "  temp_file.close()\n",
    "  os.remove('temp_building_dong.txt')\n",
    "  print('end',datetime.now())"
   ]
  },
  {
   "cell_type": "markdown",
   "metadata": {},
   "source": [
    "### 소스 데이터 업로드"
   ]
  },
  {
   "cell_type": "code",
   "execution_count": 6,
   "metadata": {},
   "outputs": [],
   "source": [
    "from zipfile import ZipFile\n",
    "import pandas as pd\n",
    "import os\n",
    "from datetime import datetime\n",
    "\n",
    "zf = ZipFile('D:/data/building_register/building_dong/국토교통부_건축물대장_표제부+(2022년+07월).zip')\n",
    "source_chunks = pd.read_csv(\n",
    "  zf.open('mart_djy_03.txt'),\n",
    "  sep='|',\n",
    "  encoding='CP949',\n",
    "  header=None,\n",
    "  dtype='string',\n",
    "  chunksize=500_000\n",
    ")"
   ]
  },
  {
   "cell_type": "code",
   "execution_count": 7,
   "metadata": {},
   "outputs": [
    {
     "name": "stdout",
     "output_type": "stream",
     "text": [
      "2022-09-22 23:54:45.178350 start..."
     ]
    },
    {
     "name": "stderr",
     "output_type": "stream",
     "text": [
      "C:\\Users\\Bob\\AppData\\Local\\Temp/ipykernel_32672/3488385069.py:118: SettingWithCopyWarning: \n",
      "A value is trying to be set on a copy of a slice from a DataFrame.\n",
      "Try using .loc[row_indexer,col_indexer] = value instead\n",
      "\n",
      "See the caveats in the documentation: https://pandas.pydata.org/pandas-docs/stable/user_guide/indexing.html#returning-a-view-versus-a-copy\n",
      "  data_table['시도_코드'] = [code[0:2] for code in data_table['시군구_코드']]\n"
     ]
    },
    {
     "name": "stdout",
     "output_type": "stream",
     "text": [
      "upload...end 2022-09-22 23:54:47.155589\n",
      "2022-09-22 23:54:56.467202 start...upload...end 2022-09-22 23:54:58.363611\n",
      "2022-09-22 23:55:07.889169 start...upload...end 2022-09-22 23:55:09.803312\n",
      "2022-09-22 23:55:19.237684 start...upload...end 2022-09-22 23:55:21.086030\n",
      "2022-09-22 23:55:30.705344 start...upload...end 2022-09-22 23:55:32.558024\n",
      "2022-09-22 23:55:42.298779 start...upload...end 2022-09-22 23:55:44.452835\n",
      "2022-09-22 23:55:54.012610 start...upload...end 2022-09-22 23:55:56.120506\n",
      "2022-09-22 23:56:05.728141 start...upload...end 2022-09-22 23:56:07.764849\n",
      "2022-09-22 23:56:17.386244 start...upload...end 2022-09-22 23:56:19.442936\n",
      "2022-09-22 23:56:28.965088 start...upload...end 2022-09-22 23:56:31.016756\n",
      "2022-09-22 23:56:40.565534 start...upload...end 2022-09-22 23:56:42.646731\n",
      "2022-09-22 23:56:52.164711 start...upload...end 2022-09-22 23:56:54.209915\n",
      "2022-09-22 23:57:03.753763 start...upload...end 2022-09-22 23:57:06.012533\n",
      "2022-09-22 23:57:15.585914 start...upload...end 2022-09-22 23:57:17.736534\n",
      "2022-09-22 23:57:27.560724 start...upload...end 2022-09-22 23:57:29.731441\n",
      "2022-09-22 23:57:37.721863 start...upload...end 2022-09-22 23:57:39.484881\n"
     ]
    }
   ],
   "source": [
    "for source_dt in source_chunks:\n",
    "  uploadToDB(source_dt)"
   ]
  }
 ],
 "metadata": {
  "kernelspec": {
   "display_name": "Python 3.9.7 64-bit",
   "language": "python",
   "name": "python3"
  },
  "language_info": {
   "codemirror_mode": {
    "name": "ipython",
    "version": 3
   },
   "file_extension": ".py",
   "mimetype": "text/x-python",
   "name": "python",
   "nbconvert_exporter": "python",
   "pygments_lexer": "ipython3",
   "version": "3.9.7"
  },
  "orig_nbformat": 4,
  "vscode": {
   "interpreter": {
    "hash": "c8375c55c81336353887004a8a0ed729a5528664cfa1d07c62a42c846a25ebdb"
   }
  }
 },
 "nbformat": 4,
 "nbformat_minor": 2
}
